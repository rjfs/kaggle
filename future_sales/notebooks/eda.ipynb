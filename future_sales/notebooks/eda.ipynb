{
 "cells": [
  {
   "cell_type": "code",
   "execution_count": 1,
   "metadata": {},
   "outputs": [],
   "source": [
    "import numpy as np\n",
    "import pandas as pd \n",
    "from tqdm import tqdm_notebook\n",
    "import os\n",
    "import sys\n",
    "import datetime\n",
    "import os.path\n",
    "from calendar import monthrange\n",
    "\n",
    "import matplotlib.pyplot as plt\n",
    "import matplotlib as mpl\n",
    "from matplotlib import rc\n",
    "from cycler import cycler\n",
    "import seaborn as sns\n",
    "%matplotlib inline\n",
    "\n",
    "from dateutil import rrule\n",
    "from datetime import date\n",
    " \n",
    "mpl.rcParams['axes.prop_cycle'] = cycler('color', ['#ff0000', '#0000ff',   '#00ffff','#ffA300', '#00ff00', \n",
    "     '#ff00ff', '#990000', '#009999', '#999900', '#009900', '#009999'])\n",
    "\n",
    "rc('font', size=16)\n",
    "# rc('font',**{'family':'serif','serif':['Computer Modern']})\n",
    "rc('text', usetex=False)\n",
    "rc('figure', figsize=(12, 10))\n",
    "rc('axes', linewidth=.5)\n",
    "rc('lines', linewidth=1.75)\n",
    "\n",
    "pd.options.mode.chained_assignment = None  # default='warn'"
   ]
  },
  {
   "cell_type": "code",
   "execution_count": 2,
   "metadata": {},
   "outputs": [],
   "source": [
    "sys.path.append(\"../src\") # Adds directory to python modules path.\n",
    "from models import utils\n",
    "from data import distributions"
   ]
  },
  {
   "cell_type": "code",
   "execution_count": 3,
   "metadata": {},
   "outputs": [],
   "source": [
    "train = utils.load_training(parse_dts=True)\n",
    "items = utils.load_raw_data('items.csv')[['item_id', 'item_category_id']]\n",
    "train = train.merge(items, how='left', on=['item_id'])"
   ]
  },
  {
   "cell_type": "markdown",
   "metadata": {},
   "source": [
    "## Shops/Categories sales"
   ]
  },
  {
   "cell_type": "code",
   "execution_count": 4,
   "metadata": {},
   "outputs": [],
   "source": [
    "shop_cat = train.groupby(['shop_id', 'item_category_id'])['item_cnt_day'].sum().unstack()\n",
    "shop_cat = shop_cat.fillna(0.0)\n",
    "cat_sells = shop_cat != 0.0"
   ]
  },
  {
   "cell_type": "code",
   "execution_count": 5,
   "metadata": {},
   "outputs": [
    {
     "data": {
      "text/plain": [
       "<matplotlib.axes._subplots.AxesSubplot at 0x7fbff30d37b8>"
      ]
     },
     "execution_count": 5,
     "metadata": {},
     "output_type": "execute_result"
    },
    {
     "data": {
      "image/png": "[encoded data removed]",
      "text/plain": [
       "<Figure size 1008x720 with 2 Axes>"
      ]
     },
     "metadata": {},
     "output_type": "display_data"
    }
   ],
   "source": [
    "sns.set(rc={'figure.figsize':(14, 10)})\n",
    "sns.heatmap(cat_sells)"
   ]
  },
  {
   "cell_type": "code",
   "execution_count": 6,
   "metadata": {},
   "outputs": [
    {
     "data": {
      "text/plain": [
       "{9: [12],\n",
       " 10: [26],\n",
       " 26: [55],\n",
       " 27: [55],\n",
       " 31: [55],\n",
       " 34: [55],\n",
       " 36: [55],\n",
       " 44: [55],\n",
       " 50: [11],\n",
       " 51: [38],\n",
       " 52: [4],\n",
       " 54: [55],\n",
       " 74: [55],\n",
       " 76: [55],\n",
       " 78: [55]}"
      ]
     },
     "execution_count": 6,
     "metadata": {},
     "output_type": "execute_result"
    }
   ],
   "source": [
    "# Find categories that are sold only in one shop\n",
    "cat_shops = {\n",
    "    c: list(cat_sells[c][cat_sells[c]].index)\n",
    "    for c in cat_sells.columns\n",
    "}\n",
    "un_shops = {k: v for k, v in cat_shops.items() if len(v) == 1}\n",
    "un_shops"
   ]
  },
  {
   "cell_type": "markdown",
   "metadata": {},
   "source": [
    "## Target values"
   ]
  },
  {
   "cell_type": "code",
   "execution_count": 9,
   "metadata": {},
   "outputs": [],
   "source": [
    "month_sales = train.groupby(['date_block_num', 'shop_id', 'item_id'])['item_cnt_day'].sum()\n",
    "month_sales.name = 'item_cnt_month'\n",
    "month_sales = month_sales.reset_index()"
   ]
  },
  {
   "cell_type": "code",
   "execution_count": 12,
   "metadata": {},
   "outputs": [],
   "source": [
    "counts = month_sales['item_cnt_month'].value_counts()"
   ]
  },
  {
   "cell_type": "code",
   "execution_count": 13,
   "metadata": {},
   "outputs": [
    {
     "data": {
      "text/plain": [
       "-1     883\n",
       "-2      26\n",
       "-4       2\n",
       "-13      1\n",
       "-22      1\n",
       "-5       1\n",
       "-6       1\n",
       "Name: item_cnt_month, dtype: int64"
      ]
     },
     "execution_count": 13,
     "metadata": {},
     "output_type": "execute_result"
    }
   ],
   "source": [
    "neg_sales = counts[counts.index < 0]\n",
    "big_sales = counts[counts.index > 20]"
   ]
  },
  {
   "cell_type": "code",
   "execution_count": 14,
   "metadata": {},
   "outputs": [
    {
     "data": {
      "text/plain": [
       "21     832\n",
       "22     719\n",
       "23     668\n",
       "24     538\n",
       "25     524\n",
       "26     475\n",
       "27     428\n",
       "28     408\n",
       "29     364\n",
       "30     340\n",
       "32     297\n",
       "31     294\n",
       "33     246\n",
       "34     228\n",
       "35     222\n",
       "36     201\n",
       "38     185\n",
       "37     183\n",
       "39     165\n",
       "40     151\n",
       "42     136\n",
       "44     126\n",
       "43     124\n",
       "41     123\n",
       "46     120\n",
       "45     111\n",
       "47     108\n",
       "48      98\n",
       "49      97\n",
       "50      87\n",
       "      ... \n",
       "423      1\n",
       "426      1\n",
       "430      1\n",
       "431      1\n",
       "432      1\n",
       "434      1\n",
       "375      1\n",
       "374      1\n",
       "373      1\n",
       "371      1\n",
       "317      1\n",
       "319      1\n",
       "320      1\n",
       "328      1\n",
       "331      1\n",
       "334      1\n",
       "337      1\n",
       "339      1\n",
       "341      1\n",
       "344      1\n",
       "349      1\n",
       "352      1\n",
       "353      1\n",
       "359      1\n",
       "360      1\n",
       "365      1\n",
       "368      1\n",
       "369      1\n",
       "370      1\n",
       "792      1\n",
       "Name: item_cnt_month, Length: 418, dtype: int64"
      ]
     },
     "execution_count": 14,
     "metadata": {},
     "output_type": "execute_result"
    }
   ],
   "source": [
    "print(len(month_sales[month_sales['']]))"
   ]
  },
  {
   "cell_type": "code",
   "execution_count": null,
   "metadata": {},
   "outputs": [],
   "source": []
  }
 ],
 "metadata": {
  "kernelspec": {
   "display_name": "Kaggle Future Sales",
   "language": "python",
   "name": "future_sales"
  },
  "language_info": {
   "codemirror_mode": {
    "name": "ipython",
    "version": 3
   },
   "file_extension": ".py",
   "mimetype": "text/x-python",
   "name": "python",
   "nbconvert_exporter": "python",
   "pygments_lexer": "ipython3",
   "version": "3.6.5"
  }
 },
 "nbformat": 4,
 "nbformat_minor": 2
}
