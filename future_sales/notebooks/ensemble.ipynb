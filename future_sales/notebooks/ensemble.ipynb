{
 "cells": [
  {
   "cell_type": "code",
   "execution_count": 1,
   "metadata": {},
   "outputs": [],
   "source": [
    "import numpy as np\n",
    "import pandas as pd \n",
    "from tqdm import tqdm_notebook\n",
    "import os\n",
    "import sys\n",
    "import datetime\n",
    "import os.path\n",
    "\n",
    "import matplotlib.pyplot as plt\n",
    "import matplotlib as mpl\n",
    "from matplotlib import rc\n",
    "from cycler import cycler\n",
    "%matplotlib inline\n",
    "\n",
    "import seaborn as sns\n",
    " \n",
    "mpl.rcParams['axes.prop_cycle'] = cycler('color', ['#ff0000', '#0000ff',   '#00ffff','#ffA300', '#00ff00', \n",
    "     '#ff00ff', '#990000', '#009999', '#999900', '#009900', '#009999'])\n",
    "\n",
    "rc('font', size=16)\n",
    "# rc('font',**{'family':'serif','serif':['Computer Modern']})\n",
    "rc('text', usetex=False)\n",
    "rc('figure', figsize=(12, 10))\n",
    "rc('axes', linewidth=.5)\n",
    "rc('lines', linewidth=1.75)\n",
    "\n",
    "pd.options.mode.chained_assignment = None  # default='warn'\n",
    "\n",
    "import sys\n",
    "sys.path.append('../src/models')\n",
    "import utils"
   ]
  },
  {
   "cell_type": "code",
   "execution_count": 2,
   "metadata": {},
   "outputs": [],
   "source": [
    "files_path = '../src/models/outputs/predictions/'\n",
    "files = [\n",
    "    # 'knn_test',\n",
    "    'xgb',\n",
    "    'lasso'\n",
    "]"
   ]
  },
  {
   "cell_type": "code",
   "execution_count": 3,
   "metadata": {},
   "outputs": [],
   "source": [
    "preds = {}\n",
    "for f in files:\n",
    "    preds[f] = pd.read_csv(files_path + f + '.csv')"
   ]
  },
  {
   "cell_type": "code",
   "execution_count": 4,
   "metadata": {},
   "outputs": [],
   "source": [
    "index_cols = ['date_block_num', 'shop_id', 'item_id']\n",
    "preds_df = list(preds.values())[0][index_cols]\n",
    "for c, p in preds.items():\n",
    "    p_rl = p.rename(columns={'item_cnt_month': c})\n",
    "    preds_df = preds_df.merge(p_rl, on=index_cols, how='left')"
   ]
  },
  {
   "cell_type": "code",
   "execution_count": 5,
   "metadata": {},
   "outputs": [],
   "source": [
    "# Append True labels\n",
    "data_path = utils.get_data_dir() + '/processed/'\n",
    "trues = pd.read_hdf(data_path + 'train_features.h5')[index_cols + ['item_cnt_month']]\n",
    "trues = trues.rename(columns={'item_cnt_month': 'trues'})\n",
    "preds_df = preds_df.merge(trues, how='left', on=index_cols)"
   ]
  },
  {
   "cell_type": "code",
   "execution_count": 6,
   "metadata": {},
   "outputs": [
    {
     "data": {
      "text/html": [
       "<div>\n",
       "<style scoped>\n",
       "    .dataframe tbody tr th:only-of-type {\n",
       "        vertical-align: middle;\n",
       "    }\n",
       "\n",
       "    .dataframe tbody tr th {\n",
       "        vertical-align: top;\n",
       "    }\n",
       "\n",
       "    .dataframe thead th {\n",
       "        text-align: right;\n",
       "    }\n",
       "</style>\n",
       "<table border=\"1\" class=\"dataframe\">\n",
       "  <thead>\n",
       "    <tr style=\"text-align: right;\">\n",
       "      <th></th>\n",
       "      <th>ID</th>\n",
       "      <th>shop_id</th>\n",
       "      <th>item_id</th>\n",
       "    </tr>\n",
       "  </thead>\n",
       "  <tbody>\n",
       "    <tr>\n",
       "      <th>0</th>\n",
       "      <td>0</td>\n",
       "      <td>5</td>\n",
       "      <td>5037</td>\n",
       "    </tr>\n",
       "    <tr>\n",
       "      <th>1</th>\n",
       "      <td>1</td>\n",
       "      <td>5</td>\n",
       "      <td>5320</td>\n",
       "    </tr>\n",
       "    <tr>\n",
       "      <th>2</th>\n",
       "      <td>2</td>\n",
       "      <td>5</td>\n",
       "      <td>5233</td>\n",
       "    </tr>\n",
       "    <tr>\n",
       "      <th>3</th>\n",
       "      <td>3</td>\n",
       "      <td>5</td>\n",
       "      <td>5232</td>\n",
       "    </tr>\n",
       "    <tr>\n",
       "      <th>4</th>\n",
       "      <td>4</td>\n",
       "      <td>5</td>\n",
       "      <td>5268</td>\n",
       "    </tr>\n",
       "  </tbody>\n",
       "</table>\n",
       "</div>"
      ],
      "text/plain": [
       "   ID  shop_id  item_id\n",
       "0   0        5     5037\n",
       "1   1        5     5320\n",
       "2   2        5     5233\n",
       "3   3        5     5232\n",
       "4   4        5     5268"
      ]
     },
     "execution_count": 6,
     "metadata": {},
     "output_type": "execute_result"
    }
   ],
   "source": [
    "test_preds = utils.load_raw_data('test.csv.gz')\n",
    "test_preds.head()"
   ]
  },
  {
   "cell_type": "code",
   "execution_count": null,
   "metadata": {},
   "outputs": [],
   "source": []
  },
  {
   "cell_type": "code",
   "execution_count": null,
   "metadata": {},
   "outputs": [],
   "source": []
  },
  {
   "cell_type": "markdown",
   "metadata": {},
   "source": [
    "## Models predictions correlations"
   ]
  },
  {
   "cell_type": "code",
   "execution_count": 7,
   "metadata": {},
   "outputs": [
    {
     "data": {
      "text/html": [
       "<div>\n",
       "<style scoped>\n",
       "    .dataframe tbody tr th:only-of-type {\n",
       "        vertical-align: middle;\n",
       "    }\n",
       "\n",
       "    .dataframe tbody tr th {\n",
       "        vertical-align: top;\n",
       "    }\n",
       "\n",
       "    .dataframe thead th {\n",
       "        text-align: right;\n",
       "    }\n",
       "</style>\n",
       "<table border=\"1\" class=\"dataframe\">\n",
       "  <thead>\n",
       "    <tr style=\"text-align: right;\">\n",
       "      <th></th>\n",
       "      <th>xgb</th>\n",
       "      <th>lasso</th>\n",
       "      <th>trues</th>\n",
       "    </tr>\n",
       "  </thead>\n",
       "  <tbody>\n",
       "    <tr>\n",
       "      <th>xgb</th>\n",
       "      <td>1.000000</td>\n",
       "      <td>0.850819</td>\n",
       "      <td>0.351709</td>\n",
       "    </tr>\n",
       "    <tr>\n",
       "      <th>lasso</th>\n",
       "      <td>0.850819</td>\n",
       "      <td>1.000000</td>\n",
       "      <td>0.290486</td>\n",
       "    </tr>\n",
       "    <tr>\n",
       "      <th>trues</th>\n",
       "      <td>0.351709</td>\n",
       "      <td>0.290486</td>\n",
       "      <td>1.000000</td>\n",
       "    </tr>\n",
       "  </tbody>\n",
       "</table>\n",
       "</div>"
      ],
      "text/plain": [
       "            xgb     lasso     trues\n",
       "xgb    1.000000  0.850819  0.351709\n",
       "lasso  0.850819  1.000000  0.290486\n",
       "trues  0.351709  0.290486  1.000000"
      ]
     },
     "execution_count": 7,
     "metadata": {},
     "output_type": "execute_result"
    }
   ],
   "source": [
    "corrs = preds_df[files + ['trues']].corr()\n",
    "corrs"
   ]
  },
  {
   "cell_type": "code",
   "execution_count": 8,
   "metadata": {},
   "outputs": [
    {
     "data": {
      "text/plain": [
       "<matplotlib.axes._subplots.AxesSubplot at 0x7fb54256ee80>"
      ]
     },
     "execution_count": 8,
     "metadata": {},
     "output_type": "execute_result"
    },
    {
     "data": {
      "image/png": "[encoded data removed]",
      "text/plain": [
       "<Figure size 432x288 with 2 Axes>"
      ]
     },
     "metadata": {},
     "output_type": "display_data"
    }
   ],
   "source": [
    "sns.heatmap(corrs)"
   ]
  },
  {
   "cell_type": "markdown",
   "metadata": {},
   "source": [
    "## 2nd level models validation: Simple holdout scheme\n",
    "We have models predictions for months 31, 32, 33 and 34. 34 is the test set.\n",
    "\n",
    "2nd level models will be fitted in 31 and 32 and validated in 33. After that, predictions are generated for month 34."
   ]
  },
  {
   "cell_type": "code",
   "execution_count": 9,
   "metadata": {},
   "outputs": [
    {
     "name": "stdout",
     "output_type": "stream",
     "text": [
      "Best Score: 0.9284\n",
      "{'alpha': 2.0, 'normalize': True}\n",
      "Best Score: 0.9876\n",
      "{'max_depth': 3}\n"
     ]
    }
   ],
   "source": [
    "from sklearn.linear_model import Ridge\n",
    "from sklearn.tree import DecisionTreeRegressor\n",
    "\n",
    "ridge_params = []\n",
    "for alpha in [0.1, 0.3, 1.0, 2.0, 3.0, 5.0, 10.0, 30.0, 100.0]:\n",
    "    for normalize in [False, True]:\n",
    "        ridge_params.append({'alpha': alpha, 'normalize': normalize})\n",
    "\n",
    "\n",
    "def find_best_params(model, params):\n",
    "    best_score = 9999.\n",
    "    best_params = None\n",
    "    for p in params:\n",
    "        meta_model = model(**p)\n",
    "        train = preds_df[preds_df.date_block_num < 33]\n",
    "        train_x = train[files]\n",
    "        train_y = train['trues']\n",
    "        meta_model.fit(train_x, train_y)\n",
    "        # Validation\n",
    "        val = preds_df[preds_df.date_block_num == 33]\n",
    "        val_x = val[files]\n",
    "        val_y = val['trues']\n",
    "        preds = meta_model.predict(val_x)\n",
    "        score = utils.compute_score(preds, val_y)\n",
    "        if score < best_score:\n",
    "            best_score = score\n",
    "            best_params = p\n",
    "            \n",
    "    return best_score, best_params\n",
    "\n",
    "best_score, best_ridge = find_best_params(Ridge, ridge_params)        \n",
    "print('Best Score: %.4f' % best_score)\n",
    "print(best_ridge)\n",
    "\n",
    "et_params = []\n",
    "for md in [2, 3, None]:\n",
    "    et_params.append({'max_depth': md})\n",
    "    \n",
    "best_score, best_et = find_best_params(DecisionTreeRegressor, et_params)        \n",
    "print('Best Score: %.4f' % best_score)\n",
    "print(best_et)"
   ]
  },
  {
   "cell_type": "code",
   "execution_count": 10,
   "metadata": {},
   "outputs": [
    {
     "data": {
      "text/plain": [
       "{'lasso': 0.43737825272910813, 'xgb': 0.74454833784760244}"
      ]
     },
     "execution_count": 10,
     "metadata": {},
     "output_type": "execute_result"
    }
   ],
   "source": [
    "# Predict test\n",
    "meta_model = Ridge(**best_ridge)\n",
    "train = preds_df[preds_df.date_block_num < 34]\n",
    "x = train[files]\n",
    "y = train['trues']\n",
    "meta_model.fit(x, y)\n",
    "dict(zip(x.columns, meta_model.coef_))"
   ]
  },
  {
   "cell_type": "code",
   "execution_count": 11,
   "metadata": {},
   "outputs": [
    {
     "data": {
      "text/html": [
       "<div>\n",
       "<style scoped>\n",
       "    .dataframe tbody tr th:only-of-type {\n",
       "        vertical-align: middle;\n",
       "    }\n",
       "\n",
       "    .dataframe tbody tr th {\n",
       "        vertical-align: top;\n",
       "    }\n",
       "\n",
       "    .dataframe thead th {\n",
       "        text-align: right;\n",
       "    }\n",
       "</style>\n",
       "<table border=\"1\" class=\"dataframe\">\n",
       "  <thead>\n",
       "    <tr style=\"text-align: right;\">\n",
       "      <th></th>\n",
       "      <th>shop_id</th>\n",
       "      <th>item_id</th>\n",
       "      <th>item_cnt_month</th>\n",
       "      <th>ID</th>\n",
       "    </tr>\n",
       "  </thead>\n",
       "  <tbody>\n",
       "    <tr>\n",
       "      <th>102816</th>\n",
       "      <td>5</td>\n",
       "      <td>5037</td>\n",
       "      <td>0.629610</td>\n",
       "      <td>0</td>\n",
       "    </tr>\n",
       "    <tr>\n",
       "      <th>198954</th>\n",
       "      <td>5</td>\n",
       "      <td>5320</td>\n",
       "      <td>0.170980</td>\n",
       "      <td>1</td>\n",
       "    </tr>\n",
       "    <tr>\n",
       "      <th>147966</th>\n",
       "      <td>5</td>\n",
       "      <td>5233</td>\n",
       "      <td>0.945022</td>\n",
       "      <td>2</td>\n",
       "    </tr>\n",
       "    <tr>\n",
       "      <th>170646</th>\n",
       "      <td>5</td>\n",
       "      <td>5232</td>\n",
       "      <td>0.429216</td>\n",
       "      <td>3</td>\n",
       "    </tr>\n",
       "    <tr>\n",
       "      <th>198996</th>\n",
       "      <td>5</td>\n",
       "      <td>5268</td>\n",
       "      <td>0.815608</td>\n",
       "      <td>4</td>\n",
       "    </tr>\n",
       "  </tbody>\n",
       "</table>\n",
       "</div>"
      ],
      "text/plain": [
       "        shop_id  item_id  item_cnt_month  ID\n",
       "102816        5     5037        0.629610   0\n",
       "198954        5     5320        0.170980   1\n",
       "147966        5     5233        0.945022   2\n",
       "170646        5     5232        0.429216   3\n",
       "198996        5     5268        0.815608   4"
      ]
     },
     "execution_count": 11,
     "metadata": {},
     "output_type": "execute_result"
    }
   ],
   "source": [
    "test_df = preds_df[preds_df.date_block_num == 34]\n",
    "test_x = test_df[files]\n",
    "submit = test_df[['shop_id', 'item_id']]\n",
    "submit['item_cnt_month'] = meta_model.predict(test_x)\n",
    "submit = submit.merge(test_preds, on=['shop_id', 'item_id'])\n",
    "submit = submit.sort_values('ID')\n",
    "submit.head()"
   ]
  },
  {
   "cell_type": "code",
   "execution_count": 13,
   "metadata": {},
   "outputs": [],
   "source": [
    "submit = submit.set_index('ID')['item_cnt_month']\n",
    "submit.to_frame().to_csv('ensemble.csv', index_label='ID')"
   ]
  },
  {
   "cell_type": "code",
   "execution_count": null,
   "metadata": {},
   "outputs": [],
   "source": []
  }
 ],
 "metadata": {
  "kernelspec": {
   "display_name": "Kaggle Future Sales",
   "language": "python",
   "name": "future_sales"
  },
  "language_info": {
   "codemirror_mode": {
    "name": "ipython",
    "version": 3
   },
   "file_extension": ".py",
   "mimetype": "text/x-python",
   "name": "python",
   "nbconvert_exporter": "python",
   "pygments_lexer": "ipython3",
   "version": "3.6.5"
  }
 },
 "nbformat": 4,
 "nbformat_minor": 2
}
