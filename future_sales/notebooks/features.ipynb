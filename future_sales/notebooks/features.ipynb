{
 "cells": [
  {
   "cell_type": "markdown",
   "metadata": {},
   "source": [
    "# Features creation\n",
    "In this notebook, raw data is loaded and parsed in order to have similar data distributions in train and test sets.\n",
    "\n",
    "After that, some basic features are computed and the results are saved into files."
   ]
  },
  {
   "cell_type": "code",
   "execution_count": 1,
   "metadata": {},
   "outputs": [],
   "source": [
    "import numpy as np\n",
    "import pandas as pd \n",
    "from tqdm import tqdm_notebook\n",
    "import os\n",
    "import sys\n",
    "import datetime\n",
    "import os.path\n",
    "from calendar import monthrange\n",
    "\n",
    "import matplotlib.pyplot as plt\n",
    "import matplotlib as mpl\n",
    "from matplotlib import rc\n",
    "from cycler import cycler\n",
    "%matplotlib inline\n",
    "\n",
    "from dateutil import rrule\n",
    "from datetime import date\n",
    " \n",
    "mpl.rcParams['axes.prop_cycle'] = cycler('color', ['#ff0000', '#0000ff',   '#00ffff','#ffA300', '#00ff00', \n",
    "     '#ff00ff', '#990000', '#009999', '#999900', '#009900', '#009999'])\n",
    "\n",
    "rc('font', size=16)\n",
    "rc('font',**{'family':'serif','serif':['Computer Modern']})\n",
    "rc('text', usetex=False)\n",
    "rc('figure', figsize=(12, 10))\n",
    "rc('axes', linewidth=.5)\n",
    "rc('lines', linewidth=1.75)\n",
    "\n",
    "pd.options.mode.chained_assignment = None  # default='warn'"
   ]
  },
  {
   "cell_type": "code",
   "execution_count": 2,
   "metadata": {},
   "outputs": [],
   "source": [
    "sys.path.append(\"../src\") # Adds directory to python modules path.\n",
    "from models import utils\n",
    "from data import distributions"
   ]
  },
  {
   "cell_type": "code",
   "execution_count": 3,
   "metadata": {},
   "outputs": [],
   "source": [
    "# Configurations\n",
    "TARGET_LABEL = 'item_cnt_month'\n",
    "MONTH_INT_LABEL = 'date_block_num'\n",
    "INDEX_COLUMNS = ['date_block_num', 'shop_id', 'item_id']\n",
    "LAGS_WINDOWS = [1, 2, 3, 4, 5, 12]\n",
    "px_operations = ['last']\n",
    "operations_dict = {\n",
    "    'item_cnt_day': ['sum', 'min'],\n",
    "    # 'date': ['first'],\n",
    "    'item_price': px_operations\n",
    "}"
   ]
  },
  {
   "cell_type": "markdown",
   "metadata": {},
   "source": [
    "## Load data"
   ]
  },
  {
   "cell_type": "code",
   "execution_count": 4,
   "metadata": {},
   "outputs": [
    {
     "data": {
      "text/html": [
       "<div>\n",
       "<style scoped>\n",
       "    .dataframe tbody tr th:only-of-type {\n",
       "        vertical-align: middle;\n",
       "    }\n",
       "\n",
       "    .dataframe tbody tr th {\n",
       "        vertical-align: top;\n",
       "    }\n",
       "\n",
       "    .dataframe thead th {\n",
       "        text-align: right;\n",
       "    }\n",
       "</style>\n",
       "<table border=\"1\" class=\"dataframe\">\n",
       "  <thead>\n",
       "    <tr style=\"text-align: right;\">\n",
       "      <th></th>\n",
       "      <th>date</th>\n",
       "      <th>date_block_num</th>\n",
       "      <th>shop_id</th>\n",
       "      <th>item_id</th>\n",
       "      <th>item_price</th>\n",
       "      <th>item_cnt_day</th>\n",
       "    </tr>\n",
       "  </thead>\n",
       "  <tbody>\n",
       "    <tr>\n",
       "      <th>1444387</th>\n",
       "      <td>2014-02-02</td>\n",
       "      <td>13</td>\n",
       "      <td>37</td>\n",
       "      <td>1855</td>\n",
       "      <td>599.5</td>\n",
       "      <td>1</td>\n",
       "    </tr>\n",
       "    <tr>\n",
       "      <th>1256267</th>\n",
       "      <td>2013-12-30</td>\n",
       "      <td>11</td>\n",
       "      <td>47</td>\n",
       "      <td>6084</td>\n",
       "      <td>2199.0</td>\n",
       "      <td>2</td>\n",
       "    </tr>\n",
       "    <tr>\n",
       "      <th>1338097</th>\n",
       "      <td>2014-01-07</td>\n",
       "      <td>12</td>\n",
       "      <td>5</td>\n",
       "      <td>1495</td>\n",
       "      <td>599.0</td>\n",
       "      <td>3</td>\n",
       "    </tr>\n",
       "    <tr>\n",
       "      <th>2050713</th>\n",
       "      <td>2014-10-25</td>\n",
       "      <td>21</td>\n",
       "      <td>10</td>\n",
       "      <td>17464</td>\n",
       "      <td>200.0</td>\n",
       "      <td>1</td>\n",
       "    </tr>\n",
       "    <tr>\n",
       "      <th>37852</th>\n",
       "      <td>2013-01-19</td>\n",
       "      <td>0</td>\n",
       "      <td>0</td>\n",
       "      <td>12134</td>\n",
       "      <td>189.0</td>\n",
       "      <td>1</td>\n",
       "    </tr>\n",
       "  </tbody>\n",
       "</table>\n",
       "</div>"
      ],
      "text/plain": [
       "              date  date_block_num  shop_id  item_id  item_price  item_cnt_day\n",
       "1444387 2014-02-02              13       37     1855       599.5             1\n",
       "1256267 2013-12-30              11       47     6084      2199.0             2\n",
       "1338097 2014-01-07              12        5     1495       599.0             3\n",
       "2050713 2014-10-25              21       10    17464       200.0             1\n",
       "37852   2013-01-19               0        0    12134       189.0             1"
      ]
     },
     "execution_count": 4,
     "metadata": {},
     "output_type": "execute_result"
    }
   ],
   "source": [
    "train = utils.load_training(parse_dts=True)\n",
    "train.sample(5)"
   ]
  },
  {
   "cell_type": "code",
   "execution_count": 5,
   "metadata": {},
   "outputs": [],
   "source": [
    "# Basic data cleaning\n",
    "train = train[train['item_price'] > 0]\n",
    "train = train[train['item_cnt_day'] < 2000]"
   ]
  },
  {
   "cell_type": "code",
   "execution_count": 6,
   "metadata": {},
   "outputs": [
    {
     "data": {
      "text/html": [
       "<div>\n",
       "<style scoped>\n",
       "    .dataframe tbody tr th:only-of-type {\n",
       "        vertical-align: middle;\n",
       "    }\n",
       "\n",
       "    .dataframe tbody tr th {\n",
       "        vertical-align: top;\n",
       "    }\n",
       "\n",
       "    .dataframe thead th {\n",
       "        text-align: right;\n",
       "    }\n",
       "</style>\n",
       "<table border=\"1\" class=\"dataframe\">\n",
       "  <thead>\n",
       "    <tr style=\"text-align: right;\">\n",
       "      <th></th>\n",
       "      <th>shop_id</th>\n",
       "      <th>item_id</th>\n",
       "    </tr>\n",
       "    <tr>\n",
       "      <th>ID</th>\n",
       "      <th></th>\n",
       "      <th></th>\n",
       "    </tr>\n",
       "  </thead>\n",
       "  <tbody>\n",
       "    <tr>\n",
       "      <th>12824</th>\n",
       "      <td>6</td>\n",
       "      <td>7384</td>\n",
       "    </tr>\n",
       "    <tr>\n",
       "      <th>115526</th>\n",
       "      <td>49</td>\n",
       "      <td>11535</td>\n",
       "    </tr>\n",
       "    <tr>\n",
       "      <th>175173</th>\n",
       "      <td>35</td>\n",
       "      <td>10614</td>\n",
       "    </tr>\n",
       "    <tr>\n",
       "      <th>113875</th>\n",
       "      <td>49</td>\n",
       "      <td>22162</td>\n",
       "    </tr>\n",
       "    <tr>\n",
       "      <th>164705</th>\n",
       "      <td>36</td>\n",
       "      <td>13009</td>\n",
       "    </tr>\n",
       "  </tbody>\n",
       "</table>\n",
       "</div>"
      ],
      "text/plain": [
       "        shop_id  item_id\n",
       "ID                      \n",
       "12824         6     7384\n",
       "115526       49    11535\n",
       "175173       35    10614\n",
       "113875       49    22162\n",
       "164705       36    13009"
      ]
     },
     "execution_count": 6,
     "metadata": {},
     "output_type": "execute_result"
    }
   ],
   "source": [
    "test = utils.load_raw_data('test.csv.gz', index_col='ID')\n",
    "test.sample(5)"
   ]
  },
  {
   "cell_type": "markdown",
   "metadata": {},
   "source": [
    "## Initial Data Parsing\n",
    "We start by aggregating daily data into monthly data, taking some different measures."
   ]
  },
  {
   "cell_type": "code",
   "execution_count": 7,
   "metadata": {
    "scrolled": true
   },
   "outputs": [
    {
     "data": {
      "text/html": [
       "<div>\n",
       "<style scoped>\n",
       "    .dataframe tbody tr th:only-of-type {\n",
       "        vertical-align: middle;\n",
       "    }\n",
       "\n",
       "    .dataframe tbody tr th {\n",
       "        vertical-align: top;\n",
       "    }\n",
       "\n",
       "    .dataframe thead th {\n",
       "        text-align: right;\n",
       "    }\n",
       "</style>\n",
       "<table border=\"1\" class=\"dataframe\">\n",
       "  <thead>\n",
       "    <tr style=\"text-align: right;\">\n",
       "      <th></th>\n",
       "      <th>date_block_num</th>\n",
       "      <th>shop_id</th>\n",
       "      <th>item_id</th>\n",
       "      <th>item_cnt_month</th>\n",
       "      <th>item_cnt_day_min</th>\n",
       "      <th>item_price_last</th>\n",
       "    </tr>\n",
       "  </thead>\n",
       "  <tbody>\n",
       "    <tr>\n",
       "      <th>91067</th>\n",
       "      <td>1</td>\n",
       "      <td>27</td>\n",
       "      <td>3432</td>\n",
       "      <td>20</td>\n",
       "      <td>1</td>\n",
       "      <td>599.000000</td>\n",
       "    </tr>\n",
       "    <tr>\n",
       "      <th>787831</th>\n",
       "      <td>13</td>\n",
       "      <td>58</td>\n",
       "      <td>18146</td>\n",
       "      <td>1</td>\n",
       "      <td>1</td>\n",
       "      <td>749.000000</td>\n",
       "    </tr>\n",
       "    <tr>\n",
       "      <th>205110</th>\n",
       "      <td>3</td>\n",
       "      <td>25</td>\n",
       "      <td>16619</td>\n",
       "      <td>1</td>\n",
       "      <td>1</td>\n",
       "      <td>149.000000</td>\n",
       "    </tr>\n",
       "    <tr>\n",
       "      <th>894984</th>\n",
       "      <td>16</td>\n",
       "      <td>22</td>\n",
       "      <td>19294</td>\n",
       "      <td>2</td>\n",
       "      <td>1</td>\n",
       "      <td>1000.000000</td>\n",
       "    </tr>\n",
       "    <tr>\n",
       "      <th>236500</th>\n",
       "      <td>3</td>\n",
       "      <td>56</td>\n",
       "      <td>16993</td>\n",
       "      <td>1</td>\n",
       "      <td>1</td>\n",
       "      <td>149.000000</td>\n",
       "    </tr>\n",
       "    <tr>\n",
       "      <th>682738</th>\n",
       "      <td>11</td>\n",
       "      <td>57</td>\n",
       "      <td>5865</td>\n",
       "      <td>3</td>\n",
       "      <td>1</td>\n",
       "      <td>1799.000000</td>\n",
       "    </tr>\n",
       "    <tr>\n",
       "      <th>1099503</th>\n",
       "      <td>20</td>\n",
       "      <td>51</td>\n",
       "      <td>19759</td>\n",
       "      <td>1</td>\n",
       "      <td>1</td>\n",
       "      <td>69.000000</td>\n",
       "    </tr>\n",
       "    <tr>\n",
       "      <th>42191</th>\n",
       "      <td>0</td>\n",
       "      <td>37</td>\n",
       "      <td>19653</td>\n",
       "      <td>2</td>\n",
       "      <td>1</td>\n",
       "      <td>549.000000</td>\n",
       "    </tr>\n",
       "    <tr>\n",
       "      <th>980602</th>\n",
       "      <td>18</td>\n",
       "      <td>13</td>\n",
       "      <td>6332</td>\n",
       "      <td>3</td>\n",
       "      <td>1</td>\n",
       "      <td>175.050003</td>\n",
       "    </tr>\n",
       "    <tr>\n",
       "      <th>316688</th>\n",
       "      <td>5</td>\n",
       "      <td>27</td>\n",
       "      <td>6916</td>\n",
       "      <td>1</td>\n",
       "      <td>1</td>\n",
       "      <td>749.000000</td>\n",
       "    </tr>\n",
       "  </tbody>\n",
       "</table>\n",
       "</div>"
      ],
      "text/plain": [
       "         date_block_num  shop_id  item_id  item_cnt_month  item_cnt_day_min  \\\n",
       "91067                 1       27     3432              20                 1   \n",
       "787831               13       58    18146               1                 1   \n",
       "205110                3       25    16619               1                 1   \n",
       "894984               16       22    19294               2                 1   \n",
       "236500                3       56    16993               1                 1   \n",
       "682738               11       57     5865               3                 1   \n",
       "1099503              20       51    19759               1                 1   \n",
       "42191                 0       37    19653               2                 1   \n",
       "980602               18       13     6332               3                 1   \n",
       "316688                5       27     6916               1                 1   \n",
       "\n",
       "         item_price_last  \n",
       "91067         599.000000  \n",
       "787831        749.000000  \n",
       "205110        149.000000  \n",
       "894984       1000.000000  \n",
       "236500        149.000000  \n",
       "682738       1799.000000  \n",
       "1099503        69.000000  \n",
       "42191         549.000000  \n",
       "980602        175.050003  \n",
       "316688        749.000000  "
      ]
     },
     "execution_count": 7,
     "metadata": {},
     "output_type": "execute_result"
    }
   ],
   "source": [
    "gb_list = ['date_block_num', 'shop_id', 'item_id']\n",
    "train = train.groupby(gb_list).agg(operations_dict)\n",
    "# Parse dataframe\n",
    "train.columns = ['%s_%s' % c for c in train.columns]\n",
    "train = train.rename(columns={'item_cnt_day_sum': TARGET_LABEL})\n",
    "train = train.reset_index()\n",
    "# Show sample of rows\n",
    "train.sample(10)"
   ]
  },
  {
   "cell_type": "markdown",
   "metadata": {},
   "source": [
    "Now, before computing features, the data distributions should be fixed in order to be similar in train and test sets."
   ]
  },
  {
   "cell_type": "code",
   "execution_count": 8,
   "metadata": {},
   "outputs": [],
   "source": [
    "# train, test = distributions.fix_distributions(train, test, TARGET_LABEL)\n",
    "train = distributions.fix_train_distribution(train, TARGET_LABEL)\n",
    "train['item_cnt_day_min'] = train['item_cnt_day_min'].fillna(0.0).astype(np.int32)\n",
    "train['item_cnt_month'] = train['item_cnt_month'].astype(np.int32)\n",
    "train = utils.downcast_dtypes(train)"
   ]
  },
  {
   "cell_type": "markdown",
   "metadata": {},
   "source": [
    "In order to compute features for train and test sets at the same time, it will be appended to the train set."
   ]
  },
  {
   "cell_type": "code",
   "execution_count": 9,
   "metadata": {},
   "outputs": [],
   "source": [
    "# Append\n",
    "test['date_block_num'] = train['date_block_num'].max() + 1\n",
    "data = train.append(test, sort=True)"
   ]
  },
  {
   "cell_type": "code",
   "execution_count": 10,
   "metadata": {},
   "outputs": [
    {
     "name": "stdout",
     "output_type": "stream",
     "text": [
      "<class 'pandas.core.frame.DataFrame'>\n",
      "Int64Index: 11128050 entries, 1613016 to 214199\n",
      "Data columns (total 6 columns):\n",
      "date_block_num      int32\n",
      "item_cnt_day_min    float32\n",
      "item_cnt_month      float32\n",
      "item_id             int32\n",
      "item_price_last     float32\n",
      "shop_id             int32\n",
      "dtypes: float32(3), int32(3)\n",
      "memory usage: 339.6 MB\n"
     ]
    }
   ],
   "source": [
    "# Downcast data\n",
    "data = utils.downcast_dtypes(data)\n",
    "data.info()"
   ]
  },
  {
   "cell_type": "markdown",
   "metadata": {},
   "source": [
    "Now we are in conditions to compute features.\n",
    "\n",
    "The features can be split into these categories:\n",
    "\n",
    "    1. Lag features: related to previous sales\n",
    "    2. Prices features: related to previous prices\n",
    "    3. Date features: related to current month"
   ]
  },
  {
   "cell_type": "markdown",
   "metadata": {},
   "source": [
    "## Lag features\n",
    "Let's create columns with lag features, i.e., with value of sales n months before current month."
   ]
  },
  {
   "cell_type": "code",
   "execution_count": 11,
   "metadata": {},
   "outputs": [],
   "source": [
    "for l in LAGS_WINDOWS:\n",
    "    lag_df = data[INDEX_COLUMNS + [TARGET_LABEL]]\n",
    "    lag_df['date_block_num'] += l\n",
    "    lag_df = lag_df.rename(columns={TARGET_LABEL: 'lag' + str(l)})\n",
    "    data = data.merge(lag_df, on=INDEX_COLUMNS, how='left')"
   ]
  },
  {
   "cell_type": "markdown",
   "metadata": {},
   "source": [
    "## Prices features\n",
    "Prices features will be, for each pair:\n",
    "    - minimum price of last month\n",
    "    - maximum price of last month\n",
    "    - last price of last month"
   ]
  },
  {
   "cell_type": "code",
   "execution_count": 12,
   "metadata": {},
   "outputs": [],
   "source": [
    "col_labels = ['item_price_' + op for op in px_operations]\n",
    "for c in col_labels:\n",
    "    lag_df = data[INDEX_COLUMNS + [c]]\n",
    "    lag_df['date_block_num'] += 1\n",
    "    lag_df = lag_df.rename(columns={c: c + '_lag1'})\n",
    "    # Remove raw column\n",
    "    data = data.drop(c, axis=1)\n",
    "    # Add lagged column\n",
    "    data = data.merge(lag_df, on=INDEX_COLUMNS, how='left')"
   ]
  },
  {
   "cell_type": "markdown",
   "metadata": {},
   "source": [
    "## Date features"
   ]
  },
  {
   "cell_type": "code",
   "execution_count": 13,
   "metadata": {},
   "outputs": [],
   "source": [
    "# Add month\n",
    "data['month'] = data['date_block_num'].apply(lambda m: 1 + m % 12)\n",
    "data['month'] = data['month'].astype(np.int16)"
   ]
  },
  {
   "cell_type": "code",
   "execution_count": 14,
   "metadata": {},
   "outputs": [],
   "source": [
    "m_range = {}\n",
    "m_weekdays = {}\n",
    "for yy in [2013, 2014, 2015]:\n",
    "    m_range[yy] = {}\n",
    "    m_weekdays[yy] = {}\n",
    "    for mm in range(1, 12 + 1):\n",
    "        rng = monthrange(yy, mm)[1]\n",
    "        m_range[yy][mm] = rng\n",
    "        # Compute number of week days in month\n",
    "        start = date(yy, mm, 1)\n",
    "        end = date(yy, mm, rng)\n",
    "        weekdays = rrule.rrule(\n",
    "            rrule.DAILY, byweekday=range(0, 5), dtstart=start, until=end\n",
    "        )\n",
    "        m_weekdays[yy][mm] = len(list(weekdays))\n",
    "\n",
    "m_ranges = [m_range[yy][mm] for yy in [2013, 2014, 2015] for mm in range(1, 12 + 1)]\n",
    "m_weekend = [\n",
    "    m_range[yy][mm] - m_weekdays[yy][mm] \n",
    "    for yy in [2013, 2014, 2015] for mm in range(1, 12 + 1)\n",
    "]\n",
    "data['month_range'] = data[MONTH_INT_LABEL].map(pd.Series(m_ranges))\n",
    "data['n_weekend'] = data[MONTH_INT_LABEL].map(pd.Series(m_weekend))"
   ]
  },
  {
   "cell_type": "markdown",
   "metadata": {},
   "source": [
    "## Item categories\n",
    "Now, item categories features will be added to the features DataFrame"
   ]
  },
  {
   "cell_type": "code",
   "execution_count": 15,
   "metadata": {},
   "outputs": [],
   "source": [
    "# Load files\n",
    "items = utils.load_raw_data('items.csv')\n",
    "item_cats = utils.load_raw_data('item_categories.csv')"
   ]
  },
  {
   "cell_type": "code",
   "execution_count": 16,
   "metadata": {},
   "outputs": [],
   "source": [
    "from itertools import zip_longest\n",
    "# Parse category names\n",
    "s = item_cats['item_category_name'].str.split('-')\n",
    "cat_names = pd.DataFrame.from_records(zip_longest(*s.values)).T\n",
    "cat_names.columns = ['catname1', 'catname2', 'catname3']\n",
    "# To save memory, let's encode category names\n",
    "for c in cat_names.columns:\n",
    "    vals = cat_names[c].unique()\n",
    "    name_enc = dict(zip(vals, range(len(vals))))\n",
    "    cat_names[c] = cat_names[c].apply(lambda x: name_enc[x])\n",
    "# Join DataFrames\n",
    "item_cats_exp = item_cats.join(cat_names)"
   ]
  },
  {
   "cell_type": "code",
   "execution_count": 17,
   "metadata": {},
   "outputs": [],
   "source": [
    "# Merge\n",
    "items_df = items.merge(item_cats_exp)\n",
    "# Filter columns\n",
    "cols = ['item_id', 'item_category_id', 'catname1', 'catname2']\n",
    "# cols = ['item_id', 'item_category_id']\n",
    "items_df = items_df[cols]\n",
    "items_df = utils.downcast_dtypes(items_df)"
   ]
  },
  {
   "cell_type": "code",
   "execution_count": 18,
   "metadata": {},
   "outputs": [],
   "source": [
    "data = data.merge(items_df, on='item_id')"
   ]
  },
  {
   "cell_type": "markdown",
   "metadata": {},
   "source": [
    "# Save features\n",
    "Finally, split into train and test and save to hdf5 files."
   ]
  },
  {
   "cell_type": "code",
   "execution_count": 19,
   "metadata": {},
   "outputs": [],
   "source": [
    "# Downcast dtypes\n",
    "for c in ['date_block_num', 'shop_id', 'item_category_id', 'month', 'month_range', 'n_weekend']:\n",
    "    data[c] = data[c].astype(np.int8)\n",
    "for c in ['item_id']:\n",
    "    data[c] = data[c].astype(np.int16)\n",
    "for c in ['item_cnt_day_min', 'lag1', 'lag2', 'lag3', 'lag12', 'item_price_last_lag1']:\n",
    "    data[c] = data[c].astype(np.float16)\n",
    "for c in ['item_cnt_month']:\n",
    "    data[c] = data[c].astype(np.float32)"
   ]
  },
  {
   "cell_type": "code",
   "execution_count": 20,
   "metadata": {},
   "outputs": [
    {
     "name": "stdout",
     "output_type": "stream",
     "text": [
      "<class 'pandas.core.frame.DataFrame'>\n",
      "Int64Index: 11128050 entries, 0 to 11128049\n",
      "Data columns (total 18 columns):\n",
      "date_block_num          int8\n",
      "item_cnt_day_min        float16\n",
      "item_cnt_month          float32\n",
      "item_id                 int16\n",
      "shop_id                 int8\n",
      "lag1                    float16\n",
      "lag2                    float16\n",
      "lag3                    float16\n",
      "lag4                    float32\n",
      "lag5                    float32\n",
      "lag12                   float16\n",
      "item_price_last_lag1    float16\n",
      "month                   int8\n",
      "month_range             int8\n",
      "n_weekend               int8\n",
      "item_category_id        int8\n",
      "catname1                int32\n",
      "catname2                int32\n",
      "dtypes: float16(6), float32(3), int16(1), int32(2), int8(6)\n",
      "memory usage: 509.4 MB\n"
     ]
    }
   ],
   "source": [
    "data.info()"
   ]
  },
  {
   "cell_type": "code",
   "execution_count": 21,
   "metadata": {},
   "outputs": [],
   "source": [
    "last_m = data['date_block_num'].max()\n",
    "train_feats = data[data['date_block_num'] < last_m]\n",
    "test_feats = data[data['date_block_num'] == last_m].drop(TARGET_LABEL, axis=1)"
   ]
  },
  {
   "cell_type": "code",
   "execution_count": 22,
   "metadata": {},
   "outputs": [],
   "source": [
    "# Save to an HDF5 file\n",
    "data_path = '../data/processed/'\n",
    "## Save train_feats in chunks because of memory\n",
    "#def chunker(seq, size):\n",
    "#    return (seq[pos:pos + size] for pos in range(0, len(seq), size))\n",
    "\n",
    "#hdf_key = 'hdf_key'\n",
    "# df_cols_to_index = [...]  # list of columns (labels) that should be indexed\n",
    "#df_cols_to_index = list(train_feats.columns)\n",
    "#store = pd.HDFStore(data_path + 'train_features.h5')\n",
    "#for i, tf in enumerate(chunker(train_feats, int(len(train_feats) / 3))):\n",
    "#    print('chunk number %d' % i)\n",
    "#    # don't index data columns in each iteration - we'll do it later ...\n",
    "#    store.append(hdf_key, tf, data_columns=df_cols_to_index, index=False)\n",
    "#    # index data columns in HDFStore\n",
    "#\n",
    "#print('creating table index')\n",
    "#store.create_table_index(hdf_key, columns=df_cols_to_index, optlevel=9, kind='full')\n",
    "#print('closing')\n",
    "#store.close()\n",
    "# Save test features\n",
    "train_feats.to_hdf(data_path + 'train_features.h5', key='df', mode='w')\n",
    "test_feats.to_hdf(data_path + 'test_features.h5', key='df', mode='w')"
   ]
  },
  {
   "cell_type": "code",
   "execution_count": null,
   "metadata": {},
   "outputs": [],
   "source": []
  },
  {
   "cell_type": "code",
   "execution_count": null,
   "metadata": {},
   "outputs": [],
   "source": []
  },
  {
   "cell_type": "code",
   "execution_count": null,
   "metadata": {},
   "outputs": [],
   "source": []
  }
 ],
 "metadata": {
  "kernelspec": {
   "display_name": "Kaggle Future Sales",
   "language": "python",
   "name": "future_sales"
  },
  "language_info": {
   "codemirror_mode": {
    "name": "ipython",
    "version": 3
   },
   "file_extension": ".py",
   "mimetype": "text/x-python",
   "name": "python",
   "nbconvert_exporter": "python",
   "pygments_lexer": "ipython3",
   "version": "3.6.5"
  }
 },
 "nbformat": 4,
 "nbformat_minor": 2
}
