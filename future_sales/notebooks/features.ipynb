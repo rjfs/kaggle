{
 "cells": [
  {
   "cell_type": "markdown",
   "metadata": {},
   "source": [
    "# Features creation\n",
    "In this notebook, raw data is loaded and parsed in order to have similar data distributions in train and test sets.\n",
    "\n",
    "After that, some basic features are computed and the results are saved into files."
   ]
  },
  {
   "cell_type": "code",
   "execution_count": 1,
   "metadata": {},
   "outputs": [],
   "source": [
    "import numpy as np\n",
    "import pandas as pd \n",
    "from tqdm import tqdm_notebook\n",
    "import os\n",
    "import sys\n",
    "import datetime\n",
    "import os.path\n",
    "from calendar import monthrange\n",
    "\n",
    "import matplotlib.pyplot as plt\n",
    "import matplotlib as mpl\n",
    "from matplotlib import rc\n",
    "from cycler import cycler\n",
    "import seaborn as sns\n",
    "%matplotlib inline\n",
    "\n",
    "from dateutil import rrule\n",
    "from datetime import date\n",
    " \n",
    "mpl.rcParams['axes.prop_cycle'] = cycler('color', ['#ff0000', '#0000ff',   '#00ffff','#ffA300', '#00ff00', \n",
    "     '#ff00ff', '#990000', '#009999', '#999900', '#009900', '#009999'])\n",
    "\n",
    "rc('font', size=16)\n",
    "# rc('font',**{'family':'serif','serif':['Computer Modern']})\n",
    "rc('text', usetex=False)\n",
    "rc('figure', figsize=(12, 10))\n",
    "rc('axes', linewidth=.5)\n",
    "rc('lines', linewidth=1.75)\n",
    "\n",
    "pd.options.mode.chained_assignment = None  # default='warn'"
   ]
  },
  {
   "cell_type": "code",
   "execution_count": 2,
   "metadata": {},
   "outputs": [],
   "source": [
    "sys.path.append(\"../src\") # Adds directory to python modules path.\n",
    "from models import utils\n",
    "from data import distributions"
   ]
  },
  {
   "cell_type": "code",
   "execution_count": 3,
   "metadata": {},
   "outputs": [],
   "source": [
    "# Configurations\n",
    "TARGET_LABEL = 'item_cnt_month'\n",
    "MONTH_INT_LABEL = 'date_block_num'\n",
    "INDEX_COLUMNS = ['date_block_num', 'shop_id', 'item_id']\n",
    "LAGS_WINDOWS = [1, 2, 3, 6, 12]\n",
    "px_operations = ['last']\n",
    "operations_dict = {\n",
    "    'item_cnt_day': ['sum', 'min'],\n",
    "    # 'date': ['first'],\n",
    "    'item_price': px_operations\n",
    "}"
   ]
  },
  {
   "cell_type": "markdown",
   "metadata": {},
   "source": [
    "## Load data"
   ]
  },
  {
   "cell_type": "code",
   "execution_count": 4,
   "metadata": {},
   "outputs": [
    {
     "data": {
      "text/html": [
       "<div>\n",
       "<style scoped>\n",
       "    .dataframe tbody tr th:only-of-type {\n",
       "        vertical-align: middle;\n",
       "    }\n",
       "\n",
       "    .dataframe tbody tr th {\n",
       "        vertical-align: top;\n",
       "    }\n",
       "\n",
       "    .dataframe thead th {\n",
       "        text-align: right;\n",
       "    }\n",
       "</style>\n",
       "<table border=\"1\" class=\"dataframe\">\n",
       "  <thead>\n",
       "    <tr style=\"text-align: right;\">\n",
       "      <th></th>\n",
       "      <th>date</th>\n",
       "      <th>date_block_num</th>\n",
       "      <th>shop_id</th>\n",
       "      <th>item_id</th>\n",
       "      <th>item_price</th>\n",
       "      <th>item_cnt_day</th>\n",
       "    </tr>\n",
       "  </thead>\n",
       "  <tbody>\n",
       "    <tr>\n",
       "      <th>47129</th>\n",
       "      <td>2013-01-09</td>\n",
       "      <td>0</td>\n",
       "      <td>15</td>\n",
       "      <td>3704</td>\n",
       "      <td>1499.0</td>\n",
       "      <td>1</td>\n",
       "    </tr>\n",
       "    <tr>\n",
       "      <th>2436600</th>\n",
       "      <td>2015-02-22</td>\n",
       "      <td>25</td>\n",
       "      <td>57</td>\n",
       "      <td>18431</td>\n",
       "      <td>299.0</td>\n",
       "      <td>1</td>\n",
       "    </tr>\n",
       "    <tr>\n",
       "      <th>2358560</th>\n",
       "      <td>2015-01-05</td>\n",
       "      <td>24</td>\n",
       "      <td>38</td>\n",
       "      <td>4338</td>\n",
       "      <td>2899.0</td>\n",
       "      <td>1</td>\n",
       "    </tr>\n",
       "    <tr>\n",
       "      <th>1040772</th>\n",
       "      <td>2013-11-09</td>\n",
       "      <td>10</td>\n",
       "      <td>27</td>\n",
       "      <td>14811</td>\n",
       "      <td>349.0</td>\n",
       "      <td>1</td>\n",
       "    </tr>\n",
       "    <tr>\n",
       "      <th>423850</th>\n",
       "      <td>2013-04-08</td>\n",
       "      <td>3</td>\n",
       "      <td>31</td>\n",
       "      <td>3619</td>\n",
       "      <td>449.0</td>\n",
       "      <td>1</td>\n",
       "    </tr>\n",
       "  </tbody>\n",
       "</table>\n",
       "</div>"
      ],
      "text/plain": [
       "              date  date_block_num  shop_id  item_id  item_price  item_cnt_day\n",
       "47129   2013-01-09               0       15     3704      1499.0             1\n",
       "2436600 2015-02-22              25       57    18431       299.0             1\n",
       "2358560 2015-01-05              24       38     4338      2899.0             1\n",
       "1040772 2013-11-09              10       27    14811       349.0             1\n",
       "423850  2013-04-08               3       31     3619       449.0             1"
      ]
     },
     "execution_count": 4,
     "metadata": {},
     "output_type": "execute_result"
    }
   ],
   "source": [
    "train = utils.load_training(parse_dts=True)\n",
    "train.sample(5)"
   ]
  },
  {
   "cell_type": "code",
   "execution_count": 5,
   "metadata": {},
   "outputs": [
    {
     "data": {
      "text/html": [
       "<div>\n",
       "<style scoped>\n",
       "    .dataframe tbody tr th:only-of-type {\n",
       "        vertical-align: middle;\n",
       "    }\n",
       "\n",
       "    .dataframe tbody tr th {\n",
       "        vertical-align: top;\n",
       "    }\n",
       "\n",
       "    .dataframe thead th {\n",
       "        text-align: right;\n",
       "    }\n",
       "</style>\n",
       "<table border=\"1\" class=\"dataframe\">\n",
       "  <thead>\n",
       "    <tr style=\"text-align: right;\">\n",
       "      <th></th>\n",
       "      <th>ID</th>\n",
       "      <th>shop_id</th>\n",
       "      <th>item_id</th>\n",
       "    </tr>\n",
       "  </thead>\n",
       "  <tbody>\n",
       "    <tr>\n",
       "      <th>51801</th>\n",
       "      <td>51801</td>\n",
       "      <td>26</td>\n",
       "      <td>10937</td>\n",
       "    </tr>\n",
       "    <tr>\n",
       "      <th>5155</th>\n",
       "      <td>5155</td>\n",
       "      <td>4</td>\n",
       "      <td>4719</td>\n",
       "    </tr>\n",
       "    <tr>\n",
       "      <th>95905</th>\n",
       "      <td>95905</td>\n",
       "      <td>14</td>\n",
       "      <td>20343</td>\n",
       "    </tr>\n",
       "    <tr>\n",
       "      <th>191006</th>\n",
       "      <td>191006</td>\n",
       "      <td>46</td>\n",
       "      <td>9206</td>\n",
       "    </tr>\n",
       "    <tr>\n",
       "      <th>155903</th>\n",
       "      <td>155903</td>\n",
       "      <td>55</td>\n",
       "      <td>16459</td>\n",
       "    </tr>\n",
       "  </tbody>\n",
       "</table>\n",
       "</div>"
      ],
      "text/plain": [
       "            ID  shop_id  item_id\n",
       "51801    51801       26    10937\n",
       "5155      5155        4     4719\n",
       "95905    95905       14    20343\n",
       "191006  191006       46     9206\n",
       "155903  155903       55    16459"
      ]
     },
     "execution_count": 5,
     "metadata": {},
     "output_type": "execute_result"
    }
   ],
   "source": [
    "test = utils.load_test()\n",
    "test.sample(5)"
   ]
  },
  {
   "cell_type": "markdown",
   "metadata": {},
   "source": [
    "## Data cleaning"
   ]
  },
  {
   "cell_type": "code",
   "execution_count": 6,
   "metadata": {},
   "outputs": [],
   "source": [
    "# Remove outliers\n",
    "train = train[train['item_price'] > 0]\n",
    "train = train[train['item_price'] < 100000]\n",
    "train = train[train['item_cnt_day'] < 2000]"
   ]
  },
  {
   "cell_type": "markdown",
   "metadata": {},
   "source": [
    "## Initial Data Parsing\n",
    "We start by aggregating daily data into monthly data, taking some different measures."
   ]
  },
  {
   "cell_type": "code",
   "execution_count": 7,
   "metadata": {
    "scrolled": true
   },
   "outputs": [
    {
     "data": {
      "text/html": [
       "<div>\n",
       "<style scoped>\n",
       "    .dataframe tbody tr th:only-of-type {\n",
       "        vertical-align: middle;\n",
       "    }\n",
       "\n",
       "    .dataframe tbody tr th {\n",
       "        vertical-align: top;\n",
       "    }\n",
       "\n",
       "    .dataframe thead th {\n",
       "        text-align: right;\n",
       "    }\n",
       "</style>\n",
       "<table border=\"1\" class=\"dataframe\">\n",
       "  <thead>\n",
       "    <tr style=\"text-align: right;\">\n",
       "      <th></th>\n",
       "      <th>date_block_num</th>\n",
       "      <th>shop_id</th>\n",
       "      <th>item_id</th>\n",
       "      <th>item_cnt_month</th>\n",
       "      <th>item_cnt_day_min</th>\n",
       "      <th>item_price_last</th>\n",
       "    </tr>\n",
       "  </thead>\n",
       "  <tbody>\n",
       "    <tr>\n",
       "      <th>1091664</th>\n",
       "      <td>20</td>\n",
       "      <td>41</td>\n",
       "      <td>6164</td>\n",
       "      <td>1</td>\n",
       "      <td>1</td>\n",
       "      <td>2199.0</td>\n",
       "    </tr>\n",
       "    <tr>\n",
       "      <th>1203455</th>\n",
       "      <td>23</td>\n",
       "      <td>12</td>\n",
       "      <td>15026</td>\n",
       "      <td>1</td>\n",
       "      <td>1</td>\n",
       "      <td>299.0</td>\n",
       "    </tr>\n",
       "    <tr>\n",
       "      <th>336333</th>\n",
       "      <td>5</td>\n",
       "      <td>47</td>\n",
       "      <td>10944</td>\n",
       "      <td>1</td>\n",
       "      <td>1</td>\n",
       "      <td>149.0</td>\n",
       "    </tr>\n",
       "    <tr>\n",
       "      <th>1206036</th>\n",
       "      <td>23</td>\n",
       "      <td>16</td>\n",
       "      <td>4901</td>\n",
       "      <td>1</td>\n",
       "      <td>1</td>\n",
       "      <td>2399.0</td>\n",
       "    </tr>\n",
       "    <tr>\n",
       "      <th>1586537</th>\n",
       "      <td>33</td>\n",
       "      <td>21</td>\n",
       "      <td>10094</td>\n",
       "      <td>1</td>\n",
       "      <td>1</td>\n",
       "      <td>398.0</td>\n",
       "    </tr>\n",
       "    <tr>\n",
       "      <th>882277</th>\n",
       "      <td>15</td>\n",
       "      <td>59</td>\n",
       "      <td>5208</td>\n",
       "      <td>1</td>\n",
       "      <td>1</td>\n",
       "      <td>1199.0</td>\n",
       "    </tr>\n",
       "    <tr>\n",
       "      <th>1211126</th>\n",
       "      <td>23</td>\n",
       "      <td>21</td>\n",
       "      <td>17108</td>\n",
       "      <td>1</td>\n",
       "      <td>1</td>\n",
       "      <td>499.0</td>\n",
       "    </tr>\n",
       "    <tr>\n",
       "      <th>1286765</th>\n",
       "      <td>24</td>\n",
       "      <td>44</td>\n",
       "      <td>5811</td>\n",
       "      <td>1</td>\n",
       "      <td>1</td>\n",
       "      <td>199.0</td>\n",
       "    </tr>\n",
       "    <tr>\n",
       "      <th>978494</th>\n",
       "      <td>18</td>\n",
       "      <td>6</td>\n",
       "      <td>18378</td>\n",
       "      <td>1</td>\n",
       "      <td>1</td>\n",
       "      <td>199.0</td>\n",
       "    </tr>\n",
       "    <tr>\n",
       "      <th>530032</th>\n",
       "      <td>9</td>\n",
       "      <td>18</td>\n",
       "      <td>9783</td>\n",
       "      <td>1</td>\n",
       "      <td>-1</td>\n",
       "      <td>1349.0</td>\n",
       "    </tr>\n",
       "  </tbody>\n",
       "</table>\n",
       "</div>"
      ],
      "text/plain": [
       "         date_block_num  shop_id  item_id  item_cnt_month  item_cnt_day_min  \\\n",
       "1091664              20       41     6164               1                 1   \n",
       "1203455              23       12    15026               1                 1   \n",
       "336333                5       47    10944               1                 1   \n",
       "1206036              23       16     4901               1                 1   \n",
       "1586537              33       21    10094               1                 1   \n",
       "882277               15       59     5208               1                 1   \n",
       "1211126              23       21    17108               1                 1   \n",
       "1286765              24       44     5811               1                 1   \n",
       "978494               18        6    18378               1                 1   \n",
       "530032                9       18     9783               1                -1   \n",
       "\n",
       "         item_price_last  \n",
       "1091664           2199.0  \n",
       "1203455            299.0  \n",
       "336333             149.0  \n",
       "1206036           2399.0  \n",
       "1586537            398.0  \n",
       "882277            1199.0  \n",
       "1211126            499.0  \n",
       "1286765            199.0  \n",
       "978494             199.0  \n",
       "530032            1349.0  "
      ]
     },
     "execution_count": 7,
     "metadata": {},
     "output_type": "execute_result"
    }
   ],
   "source": [
    "train = train.groupby(INDEX_COLUMNS).agg(operations_dict)\n",
    "# Parse dataframe\n",
    "train.columns = ['%s_%s' % c for c in train.columns]\n",
    "train = train.rename(columns={'item_cnt_day_sum': TARGET_LABEL})\n",
    "train = train.reset_index()\n",
    "# Show sample of rows\n",
    "train.sample(10)"
   ]
  },
  {
   "cell_type": "markdown",
   "metadata": {},
   "source": [
    "Now, before computing features, the data distributions should be fixed in order to be similar in train and test sets."
   ]
  },
  {
   "cell_type": "code",
   "execution_count": 8,
   "metadata": {},
   "outputs": [],
   "source": [
    "# train, test = distributions.fix_distributions(train, test, TARGET_LABEL)\n",
    "train = distributions.fix_train_distribution(train, TARGET_LABEL)\n",
    "train['item_cnt_day_min'] = train['item_cnt_day_min'].fillna(0.0)\n",
    "train['item_cnt_month'] = train['item_cnt_month']"
   ]
  },
  {
   "cell_type": "markdown",
   "metadata": {},
   "source": [
    "In order to compute features for train and test sets at the same time, it will be appended to the train set."
   ]
  },
  {
   "cell_type": "code",
   "execution_count": 9,
   "metadata": {},
   "outputs": [],
   "source": [
    "# Append\n",
    "test['date_block_num'] = train['date_block_num'].max() + 1\n",
    "data_df = train.append(test.drop('ID', axis=1), sort=True)\n",
    "del train\n",
    "del test"
   ]
  },
  {
   "cell_type": "code",
   "execution_count": 10,
   "metadata": {},
   "outputs": [
    {
     "name": "stdout",
     "output_type": "stream",
     "text": [
      "<class 'pandas.core.frame.DataFrame'>\n",
      "Int64Index: 11128004 entries, 1614236 to 214199\n",
      "Data columns (total 6 columns):\n",
      "date_block_num      int8\n",
      "item_cnt_day_min    float16\n",
      "item_cnt_month      float32\n",
      "item_id             int16\n",
      "item_price_last     float16\n",
      "shop_id             int8\n",
      "dtypes: float16(2), float32(1), int16(1), int8(2)\n",
      "memory usage: 212.2 MB\n"
     ]
    }
   ],
   "source": [
    "# Downcast data\n",
    "dtypes = {\n",
    "    'date_block_num': np.int8,\n",
    "    'item_cnt_day_min': np.float16,\n",
    "    'item_id': np.int16,\n",
    "    'shop_id': np.int8,\n",
    "    'item_price_last': np.float16,\n",
    "    'item_cnt_month': np.float32\n",
    "}\n",
    "for c, tp in dtypes.items():\n",
    "    data_df[c] = data_df[c].astype(tp)\n",
    "    \n",
    "data_df.info()"
   ]
  },
  {
   "cell_type": "markdown",
   "metadata": {},
   "source": [
    "Now we are in conditions to compute features.\n",
    "\n",
    "The features can be split into these categories:\n",
    "\n",
    "    1. Lag features: related to previous sales\n",
    "    2. Prices features: related to previous prices\n",
    "    3. Date features: related to current month"
   ]
  },
  {
   "cell_type": "code",
   "execution_count": 11,
   "metadata": {},
   "outputs": [],
   "source": [
    "def last_true_idx(arr):\n",
    "    trues = np.argwhere(arr)\n",
    "    return np.nan if len(trues) == 0 else trues[-1]\n",
    "\n",
    "\n",
    "def first_true_idx(arr):\n",
    "    trues = np.argwhere(arr)\n",
    "    return np.nan if len(trues) == 0 else trues[0]\n",
    "\n",
    "\n",
    "class Features:\n",
    "    \n",
    "    def __init__(self, df):\n",
    "        self.df = df\n",
    "        \n",
    "    def lag_feature(self, column, lags, drop=False):\n",
    "        for l in lags:\n",
    "            lag_df = self.df[INDEX_COLUMNS + [column]]\n",
    "            lag_df[MONTH_INT_LABEL] += l\n",
    "            lag_df = lag_df.rename(columns={column: '%s_L%s' % (column, l)})\n",
    "            self.df = self.df.merge(lag_df, on=INDEX_COLUMNS, how='left')\n",
    "        \n",
    "        if drop:\n",
    "            self.drop_column(column)\n",
    "            \n",
    "    def drop_column(self, c):\n",
    "        self.df.drop(c, axis=1, inplace=True)\n",
    "        \n",
    "    def mean_encode(self, gb_columns, label, lags):\n",
    "        month_avg = self.df.groupby(gb_columns)[TARGET_LABEL].mean()\n",
    "        month_avg.name = label\n",
    "        month_avg = month_avg.dropna().reset_index()\n",
    "        self.df = self.df.merge(month_avg, on=gb_columns, how='left')\n",
    "        self.df[label] = self.df[label].astype(np.float16)\n",
    "        self.lag_feature(label, lags, drop=True)\n",
    "        \n",
    "    def add_price_trend(self, operation, label):\n",
    "        op_dict = {'item_price_last_L1': operation}\n",
    "        df = self.df.groupby([MONTH_INT_LABEL, 'item_id']).agg(op_dict)\n",
    "        df = df.astype(np.float32).unstack().ffill(limit=6)\n",
    "        df -= df.shift(1)\n",
    "        df = df.stack()\n",
    "        df.columns = [label]\n",
    "        df[label] = df[label].astype(np.float16)\n",
    "        df = df.reset_index()\n",
    "        self.df = self.df.merge(df, on=[MONTH_INT_LABEL, 'item_id'], how='left')\n",
    "        \n",
    "    def add_cumulative_sales(self, by_column, name, dtype):\n",
    "        res_df = pd.pivot_table(\n",
    "            self.df,\n",
    "            values=TARGET_LABEL,\n",
    "            index=MONTH_INT_LABEL,\n",
    "            columns=['shop_id', by_column],\n",
    "            aggfunc='sum'\n",
    "        )\n",
    "        res_df = res_df.clip(lower=0.0).iloc[:-1].cumsum().ffill()\n",
    "        res_df = res_df.unstack().dropna()\n",
    "        res_df = res_df[res_df != 0.0]\n",
    "        res_df.name = name\n",
    "        res_df = res_df.reset_index()\n",
    "        on = [c for c in res_df.columns if c != name]\n",
    "        self.df = self.df.merge(res_df, on=on, how='left')\n",
    "        # Lag feature by one month\n",
    "        self.lag_feature(name, [1], drop=True)\n",
    "        # Final parsing\n",
    "        lag_name = '%s_L1' % name\n",
    "        self.df[lag_name] = self.df[lag_name].fillna(0.0).astype(dtype)\n",
    "    \n",
    "    def sales_happened(self, idx):\n",
    "        \"\"\" Computes months when there were sales \"\"\"\n",
    "        clipped_df = self.df[idx + [MONTH_INT_LABEL, TARGET_LABEL]]\n",
    "        clipped_df[TARGET_LABEL] = clipped_df[TARGET_LABEL].clip(lower=0.0)\n",
    "        # Re-shape data\n",
    "        pt = pd.pivot_table(\n",
    "            clipped_df,\n",
    "            index=MONTH_INT_LABEL,\n",
    "            values=TARGET_LABEL,\n",
    "            columns=idx,\n",
    "            aggfunc='sum'\n",
    "        )\n",
    "        pt.replace(0.0, np.nan, inplace=True)\n",
    "        pt.dropna(how='all', axis=1, inplace=True)\n",
    "        \n",
    "        return ~pt.isnull()\n",
    "    \n",
    "    def apply_sales_func(self, idx, name, func):\n",
    "        # Get months when there were sales\n",
    "        pt = self.sales_happened(idx)\n",
    "        # Compute last true value\n",
    "        pt = pt.rolling(len(pt), min_periods=0).apply(func, raw=True)\n",
    "        # Lag one month\n",
    "        pt = pt.shift(1)\n",
    "        # Stack all columns\n",
    "        while isinstance(pt, pd.DataFrame):\n",
    "            pt = pt.stack()\n",
    "        # Last parsing\n",
    "        pt.name = name\n",
    "        pt = pt.dropna().reset_index()\n",
    "        pt[name] = pt[MONTH_INT_LABEL] - pt[name]\n",
    "        # Merge\n",
    "        self.df = self.df.merge(pt, on=idx + [MONTH_INT_LABEL], how='left')\n",
    "    \n",
    "    def add_last_sale(self, idx, name):\n",
    "        self.apply_sales_func(idx, name, last_true_idx)\n",
    "        \n",
    "    def add_first_sale(self, idx, name):\n",
    "        self.apply_sales_func(idx, name, first_true_idx)\n",
    "\n",
    "    @property\n",
    "    def last_month(self):\n",
    "        return self.df['date_block_num'].max()\n",
    "    \n",
    "    @property\n",
    "    def train(self):\n",
    "        return self.df[self.df['date_block_num'] < self.last_month]\n",
    "    \n",
    "    @property\n",
    "    def test(self):\n",
    "        return self.df[self.df['date_block_num'] == self.last_month].drop(TARGET_LABEL, axis=1)\n"
   ]
  },
  {
   "cell_type": "code",
   "execution_count": 12,
   "metadata": {},
   "outputs": [],
   "source": [
    "data = Features(data_df)\n",
    "del data_df"
   ]
  },
  {
   "cell_type": "markdown",
   "metadata": {},
   "source": [
    "## Item categories\n",
    "Add item categories features to the features DataFrame"
   ]
  },
  {
   "cell_type": "code",
   "execution_count": 13,
   "metadata": {},
   "outputs": [],
   "source": [
    "# Load files\n",
    "data_dir = utils.get_data_dir()\n",
    "items_dtype = {\n",
    "    'item_id': np.int16, 'item_category_id': np.int8,\n",
    "    'in_PC': np.float16, 'in_version': np.float16, 'icn_games': np.float16,\n",
    "    'type_code': np.int8, 'subtype_code': np.int8,\n",
    "    'meta_cat': np.int8\n",
    "}\n",
    "shops_dtype = {\n",
    "    'shop_id': np.int8,\n",
    "    'sn_Moscow': np.float16,\n",
    "    'city_code': np.int8,\n",
    "}\n",
    "items = pd.read_csv(data_dir + '/processed/items.csv', dtype=items_dtype)\n",
    "shops = pd.read_csv(data_dir + '/processed/shops.csv', dtype=shops_dtype)"
   ]
  },
  {
   "cell_type": "code",
   "execution_count": 14,
   "metadata": {},
   "outputs": [],
   "source": [
    "data.df = data.df.merge(items, on='item_id', how='left')\n",
    "data.df = data.df.merge(shops, on='shop_id', how='left')"
   ]
  },
  {
   "cell_type": "markdown",
   "metadata": {},
   "source": [
    "## Lag features\n",
    "Let's create columns with lag features, i.e., with value of sales n months before current month."
   ]
  },
  {
   "cell_type": "code",
   "execution_count": 15,
   "metadata": {},
   "outputs": [
    {
     "name": "stdout",
     "output_type": "stream",
     "text": [
      "CPU times: user 43.9 s, sys: 16.1 s, total: 60 s\n",
      "Wall time: 1min\n"
     ]
    }
   ],
   "source": [
    "%%time\n",
    "data.lag_feature(TARGET_LABEL, LAGS_WINDOWS)"
   ]
  },
  {
   "cell_type": "code",
   "execution_count": 16,
   "metadata": {},
   "outputs": [
    {
     "name": "stdout",
     "output_type": "stream",
     "text": [
      "CPU times: user 8.48 s, sys: 3.8 s, total: 12.3 s\n",
      "Wall time: 12.3 s\n"
     ]
    }
   ],
   "source": [
    "%%time\n",
    "data.lag_feature('item_cnt_day_min', [1], drop=True)"
   ]
  },
  {
   "cell_type": "code",
   "execution_count": 50,
   "metadata": {},
   "outputs": [],
   "source": [
    "# Downcast\n",
    "for c in ['%s_L%s' % (TARGET_LABEL, i) for i in LAGS_WINDOWS]:\n",
    "    data.df[c] = data.df[c].astype(np.float16)"
   ]
  },
  {
   "cell_type": "markdown",
   "metadata": {},
   "source": [
    "## Cumulative Sales Features"
   ]
  },
  {
   "cell_type": "code",
   "execution_count": 17,
   "metadata": {},
   "outputs": [
    {
     "name": "stdout",
     "output_type": "stream",
     "text": [
      "CPU times: user 28.6 s, sys: 10.3 s, total: 38.9 s\n",
      "Wall time: 38.9 s\n"
     ]
    }
   ],
   "source": [
    "%%time\n",
    "data.add_cumulative_sales('item_id', name='cum_sales', dtype=np.int16)"
   ]
  },
  {
   "cell_type": "code",
   "execution_count": 18,
   "metadata": {},
   "outputs": [
    {
     "name": "stdout",
     "output_type": "stream",
     "text": [
      "CPU times: user 14.5 s, sys: 7.41 s, total: 21.9 s\n",
      "Wall time: 21.9 s\n"
     ]
    }
   ],
   "source": [
    "%%time\n",
    "data.add_cumulative_sales('item_category_id', name='cum_cat_sales', dtype=np.int32)"
   ]
  },
  {
   "cell_type": "code",
   "execution_count": 19,
   "metadata": {},
   "outputs": [
    {
     "name": "stdout",
     "output_type": "stream",
     "text": [
      "CPU times: user 12.3 s, sys: 5.93 s, total: 18.2 s\n",
      "Wall time: 18.2 s\n"
     ]
    }
   ],
   "source": [
    "%%time\n",
    "data.add_cumulative_sales('meta_cat', name='cum_metacat_sales', dtype=np.int32)"
   ]
  },
  {
   "cell_type": "markdown",
   "metadata": {},
   "source": [
    "## Prices features\n",
    "Prices features will be, for each pair:\n",
    "    - minimum price of last month\n",
    "    - maximum price of last month\n",
    "    - last price of last month"
   ]
  },
  {
   "cell_type": "code",
   "execution_count": 20,
   "metadata": {},
   "outputs": [
    {
     "name": "stdout",
     "output_type": "stream",
     "text": [
      "CPU times: user 6.86 s, sys: 2.78 s, total: 9.64 s\n",
      "Wall time: 9.64 s\n"
     ]
    }
   ],
   "source": [
    "%%time\n",
    "col_labels = ['item_price_' + op for op in px_operations]\n",
    "for c in col_labels:\n",
    "    # Add lag\n",
    "    data.lag_feature(c, [1], drop=True)"
   ]
  },
  {
   "cell_type": "code",
   "execution_count": 21,
   "metadata": {},
   "outputs": [
    {
     "name": "stdout",
     "output_type": "stream",
     "text": [
      "CPU times: user 5.7 s, sys: 2.02 s, total: 7.72 s\n",
      "Wall time: 7.72 s\n"
     ]
    }
   ],
   "source": [
    "%%time\n",
    "# Add mean and min item price of previous month\n",
    "index_cols = [MONTH_INT_LABEL, 'item_id']\n",
    "px_df = data.df.groupby(index_cols).agg({'item_price_last_L1': ['mean', 'min']})\n",
    "px_df = px_df.dropna(how='all')\n",
    "px_df.columns = ['item_px_mean_L1', 'item_px_min_L1']\n",
    "data.df = data.df.merge(px_df, on=index_cols, how='left')"
   ]
  },
  {
   "cell_type": "code",
   "execution_count": 22,
   "metadata": {},
   "outputs": [
    {
     "name": "stdout",
     "output_type": "stream",
     "text": [
      "CPU times: user 13.4 s, sys: 6.12 s, total: 19.5 s\n",
      "Wall time: 19.5 s\n"
     ]
    }
   ],
   "source": [
    "%%time\n",
    "data.add_price_trend('mean', 'price_mean_trend')\n",
    "data.add_price_trend('min', 'price_min_trend')"
   ]
  },
  {
   "cell_type": "markdown",
   "metadata": {},
   "source": [
    "## Date features"
   ]
  },
  {
   "cell_type": "code",
   "execution_count": 23,
   "metadata": {},
   "outputs": [],
   "source": [
    "# Add month\n",
    "data.df['month'] = data.df[MONTH_INT_LABEL].apply(lambda m: 1 + m % 12)\n",
    "data.df['month'] = data.df['month'].astype(np.int8)"
   ]
  },
  {
   "cell_type": "code",
   "execution_count": 24,
   "metadata": {},
   "outputs": [],
   "source": [
    "m_range = {}\n",
    "m_weekdays = {}\n",
    "for yy in [2013, 2014, 2015]:\n",
    "    m_range[yy] = {}\n",
    "    m_weekdays[yy] = {}\n",
    "    for mm in range(1, 12 + 1):\n",
    "        rng = monthrange(yy, mm)[1]\n",
    "        m_range[yy][mm] = rng\n",
    "        # Compute number of week days in month\n",
    "        start = date(yy, mm, 1)\n",
    "        end = date(yy, mm, rng)\n",
    "        weekdays = rrule.rrule(\n",
    "            rrule.DAILY, byweekday=range(0, 5), dtstart=start, until=end\n",
    "        )\n",
    "        m_weekdays[yy][mm] = len(list(weekdays))\n",
    "\n",
    "m_ranges = [m_range[yy][mm] for yy in [2013, 2014, 2015] for mm in range(1, 12 + 1)]\n",
    "m_weekend = [\n",
    "    m_range[yy][mm] - m_weekdays[yy][mm] \n",
    "    for yy in [2013, 2014, 2015] for mm in range(1, 12 + 1)\n",
    "]\n",
    "data.df['month_range'] = data.df[MONTH_INT_LABEL].map(pd.Series(m_ranges)).astype(np.int8)\n",
    "data.df['n_weekend'] = data.df[MONTH_INT_LABEL].map(pd.Series(m_weekend)).astype(np.int8)"
   ]
  },
  {
   "cell_type": "code",
   "execution_count": 25,
   "metadata": {},
   "outputs": [
    {
     "name": "stdout",
     "output_type": "stream",
     "text": [
      "CPU times: user 3min 7s, sys: 7.7 s, total: 3min 14s\n",
      "Wall time: 3min 14s\n"
     ]
    }
   ],
   "source": [
    "%%time\n",
    "data.add_first_sale(['shop_id', 'item_id'], name='first_sale')"
   ]
  },
  {
   "cell_type": "code",
   "execution_count": 26,
   "metadata": {},
   "outputs": [
    {
     "name": "stdout",
     "output_type": "stream",
     "text": [
      "CPU times: user 18.1 s, sys: 3.95 s, total: 22 s\n",
      "Wall time: 21.6 s\n"
     ]
    }
   ],
   "source": [
    "%%time\n",
    "data.add_first_sale(['item_id'], name='item_first_sale')"
   ]
  },
  {
   "cell_type": "code",
   "execution_count": 27,
   "metadata": {},
   "outputs": [
    {
     "name": "stdout",
     "output_type": "stream",
     "text": [
      "CPU times: user 19.2 s, sys: 3.17 s, total: 22.4 s\n",
      "Wall time: 22.2 s\n"
     ]
    }
   ],
   "source": [
    "%%time\n",
    "data.add_last_sale(['item_id'], name='item_last_sale')"
   ]
  },
  {
   "cell_type": "code",
   "execution_count": 28,
   "metadata": {},
   "outputs": [
    {
     "name": "stdout",
     "output_type": "stream",
     "text": [
      "CPU times: user 3min 16s, sys: 7.1 s, total: 3min 23s\n",
      "Wall time: 3min 23s\n"
     ]
    }
   ],
   "source": [
    "%%time\n",
    "data.add_last_sale(['shop_id', 'item_id'], name='last_sale')"
   ]
  },
  {
   "cell_type": "code",
   "execution_count": 44,
   "metadata": {},
   "outputs": [],
   "source": [
    "# Downcast columns\n",
    "for c in ['first_sale', 'item_first_sale', 'item_last_sale', 'last_sale']:\n",
    "    data.df[c] = data.df[c].astype(np.float16)"
   ]
  },
  {
   "cell_type": "code",
   "execution_count": 45,
   "metadata": {},
   "outputs": [],
   "source": [
    "# Test 1\n",
    "fs_df = data.df[['first_sale', 'item_first_sale']].dropna()\n",
    "assert (fs_df['first_sale'] <= fs_df['item_first_sale']).eq(True).all()\n",
    "del fs_df\n",
    "# Test 2\n",
    "ls_df = data.df[['last_sale', 'item_last_sale']].dropna()\n",
    "assert (ls_df['item_last_sale'] <= ls_df['last_sale']).eq(True).all()\n",
    "del ls_df\n",
    "# Test 3\n",
    "df = data.df[['last_sale', 'first_sale']].dropna()\n",
    "assert (df['first_sale'] >= df['last_sale']).eq(True).all()\n",
    "del df\n",
    "# Test 4\n",
    "df = data.df[['item_last_sale', 'item_first_sale']].dropna()\n",
    "assert (df['item_first_sale'] >= df['item_last_sale']).eq(True).all()\n",
    "del df"
   ]
  },
  {
   "cell_type": "code",
   "execution_count": 46,
   "metadata": {},
   "outputs": [],
   "source": [
    "assert (data.df['first_sale'].dropna() > 0).eq(True).all()\n",
    "assert (data.df['item_first_sale'].dropna() > 0).eq(True).all()\n",
    "assert (data.df['item_last_sale'].dropna() > 0).eq(True).all()\n",
    "assert (data.df['last_sale'].dropna() > 0).eq(True).all()"
   ]
  },
  {
   "cell_type": "markdown",
   "metadata": {},
   "source": [
    "## Mean Encodings"
   ]
  },
  {
   "cell_type": "code",
   "execution_count": 31,
   "metadata": {},
   "outputs": [
    {
     "name": "stdout",
     "output_type": "stream",
     "text": [
      "CPU times: user 26.5 s, sys: 12.2 s, total: 38.7 s\n",
      "Wall time: 38.7 s\n"
     ]
    }
   ],
   "source": [
    "%%time\n",
    "# Month lag1 mean encoding\n",
    "data.mean_encode(['date_block_num'], 'month_avg', [1, 12])"
   ]
  },
  {
   "cell_type": "code",
   "execution_count": 32,
   "metadata": {},
   "outputs": [
    {
     "name": "stdout",
     "output_type": "stream",
     "text": [
      "CPU times: user 46 s, sys: 21.5 s, total: 1min 7s\n",
      "Wall time: 1min 7s\n"
     ]
    }
   ],
   "source": [
    "%%time\n",
    "data.mean_encode(['date_block_num', 'item_id'], 'month_item_avg', [1, 2, 3, 6])"
   ]
  },
  {
   "cell_type": "code",
   "execution_count": 33,
   "metadata": {},
   "outputs": [
    {
     "name": "stdout",
     "output_type": "stream",
     "text": [
      "CPU times: user 46.8 s, sys: 23.4 s, total: 1min 10s\n",
      "Wall time: 1min 10s\n"
     ]
    }
   ],
   "source": [
    "%%time\n",
    "data.mean_encode(['date_block_num', 'shop_id'], 'month_shop_avg', [1, 2, 3, 6])"
   ]
  },
  {
   "cell_type": "code",
   "execution_count": 34,
   "metadata": {},
   "outputs": [
    {
     "name": "stdout",
     "output_type": "stream",
     "text": [
      "CPU times: user 17 s, sys: 9.03 s, total: 26 s\n",
      "Wall time: 26 s\n"
     ]
    }
   ],
   "source": [
    "%%time\n",
    "data.mean_encode(['date_block_num', 'item_category_id'], 'month_cat_avg', [1])"
   ]
  },
  {
   "cell_type": "code",
   "execution_count": 35,
   "metadata": {},
   "outputs": [
    {
     "name": "stdout",
     "output_type": "stream",
     "text": [
      "CPU times: user 16.7 s, sys: 9.3 s, total: 26 s\n",
      "Wall time: 26 s\n"
     ]
    }
   ],
   "source": [
    "%%time\n",
    "data.mean_encode(['date_block_num', 'shop_id', 'item_category_id'], 'month_shopcat_avg', [1])"
   ]
  },
  {
   "cell_type": "code",
   "execution_count": 36,
   "metadata": {},
   "outputs": [
    {
     "name": "stdout",
     "output_type": "stream",
     "text": [
      "CPU times: user 17.1 s, sys: 10.1 s, total: 27.2 s\n",
      "Wall time: 27.2 s\n"
     ]
    }
   ],
   "source": [
    "%%time\n",
    "data.mean_encode(['date_block_num', 'city_code'], 'month_city_avg', [1])"
   ]
  },
  {
   "cell_type": "code",
   "execution_count": 37,
   "metadata": {},
   "outputs": [
    {
     "name": "stdout",
     "output_type": "stream",
     "text": [
      "CPU times: user 23.6 s, sys: 11.9 s, total: 35.6 s\n",
      "Wall time: 35.6 s\n"
     ]
    }
   ],
   "source": [
    "%%time\n",
    "data.mean_encode(['date_block_num', 'item_id', 'city_code'], 'month_itemcity_avg', [1])"
   ]
  },
  {
   "cell_type": "markdown",
   "metadata": {},
   "source": [
    "## Features correlations"
   ]
  },
  {
   "cell_type": "code",
   "execution_count": 38,
   "metadata": {},
   "outputs": [],
   "source": [
    "corrs = data.df.sample(2**22).corr()"
   ]
  },
  {
   "cell_type": "code",
   "execution_count": 39,
   "metadata": {},
   "outputs": [
    {
     "data": {
      "text/plain": [
       "<matplotlib.axes._subplots.AxesSubplot at 0x7f72af87cf28>"
      ]
     },
     "execution_count": 39,
     "metadata": {},
     "output_type": "execute_result"
    },
    {
     "data": {
      "image/png": "[encoded data removed]",
      "text/plain": [
       "<Figure size 1008x720 with 2 Axes>"
      ]
     },
     "metadata": {},
     "output_type": "display_data"
    }
   ],
   "source": [
    "sns.set(rc={'figure.figsize':(14, 10)})\n",
    "sns.heatmap(corrs.abs())"
   ]
  },
  {
   "cell_type": "markdown",
   "metadata": {},
   "source": [
    "# Save features\n",
    "Finally, split into train and test and save to hdf5 files."
   ]
  },
  {
   "cell_type": "code",
   "execution_count": 51,
   "metadata": {},
   "outputs": [
    {
     "name": "stdout",
     "output_type": "stream",
     "text": [
      "<class 'pandas.core.frame.DataFrame'>\n",
      "Int64Index: 11128004 entries, 0 to 11128003\n",
      "Data columns (total 48 columns):\n",
      "date_block_num           int8\n",
      "item_cnt_month           float32\n",
      "item_id                  int16\n",
      "shop_id                  int8\n",
      "item_category_id         int8\n",
      "in_PC                    float16\n",
      "in_version               float16\n",
      "icn_games                float16\n",
      "type_code                int8\n",
      "subtype_code             int8\n",
      "meta_cat                 int8\n",
      "sn_Moscow                float16\n",
      "city_code                int8\n",
      "item_cnt_month_L1        float16\n",
      "item_cnt_month_L2        float16\n",
      "item_cnt_month_L3        float16\n",
      "item_cnt_month_L6        float16\n",
      "item_cnt_month_L12       float16\n",
      "item_cnt_day_min_L1      float16\n",
      "cum_sales_L1             int16\n",
      "cum_cat_sales_L1         int32\n",
      "cum_metacat_sales_L1     int32\n",
      "item_price_last_L1       float16\n",
      "item_px_mean_L1          float16\n",
      "item_px_min_L1           float16\n",
      "price_mean_trend         float16\n",
      "price_min_trend          float16\n",
      "month                    int8\n",
      "month_range              int8\n",
      "n_weekend                int8\n",
      "first_sale               float16\n",
      "item_first_sale          float16\n",
      "item_last_sale           float16\n",
      "last_sale                float16\n",
      "month_avg_L1             float16\n",
      "month_avg_L12            float16\n",
      "month_item_avg_L1        float16\n",
      "month_item_avg_L2        float16\n",
      "month_item_avg_L3        float16\n",
      "month_item_avg_L6        float16\n",
      "month_shop_avg_L1        float16\n",
      "month_shop_avg_L2        float16\n",
      "month_shop_avg_L3        float16\n",
      "month_shop_avg_L6        float16\n",
      "month_cat_avg_L1         float16\n",
      "month_shopcat_avg_L1     float16\n",
      "month_city_avg_L1        float16\n",
      "month_itemcity_avg_L1    float16\n",
      "dtypes: float16(33), float32(1), int16(2), int32(2), int8(10)\n",
      "memory usage: 1.0 GB\n"
     ]
    }
   ],
   "source": [
    "data.df.info()"
   ]
  },
  {
   "cell_type": "code",
   "execution_count": 52,
   "metadata": {},
   "outputs": [],
   "source": [
    "# Save to HDF5 files\n",
    "data_path = '../data/processed/'\n",
    "data.train.to_hdf(data_path + 'train_features.h5', key='df', mode='w')\n",
    "data.test.to_hdf(data_path + 'test_features.h5', key='df', mode='w')"
   ]
  },
  {
   "cell_type": "code",
   "execution_count": null,
   "metadata": {},
   "outputs": [],
   "source": []
  }
 ],
 "metadata": {
  "kernelspec": {
   "display_name": "Kaggle Future Sales",
   "language": "python",
   "name": "future_sales"
  },
  "language_info": {
   "codemirror_mode": {
    "name": "ipython",
    "version": 3
   },
   "file_extension": ".py",
   "mimetype": "text/x-python",
   "name": "python",
   "nbconvert_exporter": "python",
   "pygments_lexer": "ipython3",
   "version": "3.6.5"
  }
 },
 "nbformat": 4,
 "nbformat_minor": 2
}
