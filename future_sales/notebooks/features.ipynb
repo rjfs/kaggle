{
 "cells": [
  {
   "cell_type": "markdown",
   "metadata": {},
   "source": [
    "# Features creation\n",
    "In this notebook, raw data is loaded and parsed in order to have similar data distributions in train and test sets.\n",
    "\n",
    "After that, some basic features are computed and the results are saved into files."
   ]
  },
  {
   "cell_type": "code",
   "execution_count": 1,
   "metadata": {},
   "outputs": [],
   "source": [
    "import numpy as np\n",
    "import pandas as pd \n",
    "from tqdm import tqdm_notebook\n",
    "import os\n",
    "import sys\n",
    "import datetime\n",
    "import os.path\n",
    "from calendar import monthrange\n",
    "\n",
    "import matplotlib.pyplot as plt\n",
    "import matplotlib as mpl\n",
    "from matplotlib import rc\n",
    "from cycler import cycler\n",
    "import seaborn as sns\n",
    "%matplotlib inline\n",
    "\n",
    "from dateutil import rrule\n",
    "from datetime import date\n",
    "import re\n",
    " \n",
    "mpl.rcParams['axes.prop_cycle'] = cycler('color', ['#ff0000', '#0000ff',   '#00ffff','#ffA300', '#00ff00', \n",
    "     '#ff00ff', '#990000', '#009999', '#999900', '#009900', '#009999'])\n",
    "\n",
    "rc('font', size=16)\n",
    "# rc('font',**{'family':'serif','serif':['Computer Modern']})\n",
    "rc('text', usetex=False)\n",
    "rc('figure', figsize=(12, 10))\n",
    "rc('axes', linewidth=.5)\n",
    "rc('lines', linewidth=1.75)\n",
    "\n",
    "pd.options.mode.chained_assignment = None  # default='warn'"
   ]
  },
  {
   "cell_type": "code",
   "execution_count": 2,
   "metadata": {},
   "outputs": [],
   "source": [
    "sys.path.append(\"../src\") # Adds directory to python modules path.\n",
    "from models import utils\n",
    "from data import distributions"
   ]
  },
  {
   "cell_type": "code",
   "execution_count": 3,
   "metadata": {},
   "outputs": [],
   "source": [
    "# Configurations\n",
    "TARGET_LABEL = 'item_cnt_month'\n",
    "MONTH_INT_LABEL = 'date_block_num'\n",
    "INDEX_COLUMNS = ['date_block_num', 'shop_id', 'item_id']\n",
    "LAGS_WINDOWS = [1, 2, 3, 6, 12]\n",
    "px_operations = ['last']\n",
    "operations_dict = {\n",
    "    'item_cnt_day': ['sum', 'min'],\n",
    "    # 'date': ['first'],\n",
    "    'item_price': px_operations\n",
    "}"
   ]
  },
  {
   "cell_type": "markdown",
   "metadata": {},
   "source": [
    "## Load data"
   ]
  },
  {
   "cell_type": "code",
   "execution_count": 4,
   "metadata": {},
   "outputs": [
    {
     "data": {
      "text/html": [
       "<div>\n",
       "<style scoped>\n",
       "    .dataframe tbody tr th:only-of-type {\n",
       "        vertical-align: middle;\n",
       "    }\n",
       "\n",
       "    .dataframe tbody tr th {\n",
       "        vertical-align: top;\n",
       "    }\n",
       "\n",
       "    .dataframe thead th {\n",
       "        text-align: right;\n",
       "    }\n",
       "</style>\n",
       "<table border=\"1\" class=\"dataframe\">\n",
       "  <thead>\n",
       "    <tr style=\"text-align: right;\">\n",
       "      <th></th>\n",
       "      <th>date</th>\n",
       "      <th>date_block_num</th>\n",
       "      <th>shop_id</th>\n",
       "      <th>item_id</th>\n",
       "      <th>item_price</th>\n",
       "      <th>item_cnt_day</th>\n",
       "    </tr>\n",
       "  </thead>\n",
       "  <tbody>\n",
       "    <tr>\n",
       "      <th>362720</th>\n",
       "      <td>2013-04-24</td>\n",
       "      <td>3</td>\n",
       "      <td>25</td>\n",
       "      <td>21415</td>\n",
       "      <td>349.000000</td>\n",
       "      <td>1</td>\n",
       "    </tr>\n",
       "    <tr>\n",
       "      <th>927211</th>\n",
       "      <td>2013-09-10</td>\n",
       "      <td>8</td>\n",
       "      <td>54</td>\n",
       "      <td>4282</td>\n",
       "      <td>286.459991</td>\n",
       "      <td>1</td>\n",
       "    </tr>\n",
       "    <tr>\n",
       "      <th>1146306</th>\n",
       "      <td>2013-12-26</td>\n",
       "      <td>11</td>\n",
       "      <td>28</td>\n",
       "      <td>20949</td>\n",
       "      <td>5.000000</td>\n",
       "      <td>35</td>\n",
       "    </tr>\n",
       "    <tr>\n",
       "      <th>183395</th>\n",
       "      <td>2013-02-21</td>\n",
       "      <td>1</td>\n",
       "      <td>31</td>\n",
       "      <td>17328</td>\n",
       "      <td>98.000000</td>\n",
       "      <td>1</td>\n",
       "    </tr>\n",
       "    <tr>\n",
       "      <th>1580307</th>\n",
       "      <td>2014-04-10</td>\n",
       "      <td>15</td>\n",
       "      <td>6</td>\n",
       "      <td>16795</td>\n",
       "      <td>299.000000</td>\n",
       "      <td>1</td>\n",
       "    </tr>\n",
       "  </tbody>\n",
       "</table>\n",
       "</div>"
      ],
      "text/plain": [
       "              date  date_block_num  shop_id  item_id  item_price  item_cnt_day\n",
       "362720  2013-04-24               3       25    21415  349.000000             1\n",
       "927211  2013-09-10               8       54     4282  286.459991             1\n",
       "1146306 2013-12-26              11       28    20949    5.000000            35\n",
       "183395  2013-02-21               1       31    17328   98.000000             1\n",
       "1580307 2014-04-10              15        6    16795  299.000000             1"
      ]
     },
     "execution_count": 4,
     "metadata": {},
     "output_type": "execute_result"
    }
   ],
   "source": [
    "train = utils.load_training(parse_dts=True)\n",
    "train.sample(5)"
   ]
  },
  {
   "cell_type": "code",
   "execution_count": 5,
   "metadata": {},
   "outputs": [
    {
     "data": {
      "text/html": [
       "<div>\n",
       "<style scoped>\n",
       "    .dataframe tbody tr th:only-of-type {\n",
       "        vertical-align: middle;\n",
       "    }\n",
       "\n",
       "    .dataframe tbody tr th {\n",
       "        vertical-align: top;\n",
       "    }\n",
       "\n",
       "    .dataframe thead th {\n",
       "        text-align: right;\n",
       "    }\n",
       "</style>\n",
       "<table border=\"1\" class=\"dataframe\">\n",
       "  <thead>\n",
       "    <tr style=\"text-align: right;\">\n",
       "      <th></th>\n",
       "      <th>ID</th>\n",
       "      <th>shop_id</th>\n",
       "      <th>item_id</th>\n",
       "    </tr>\n",
       "  </thead>\n",
       "  <tbody>\n",
       "    <tr>\n",
       "      <th>120009</th>\n",
       "      <td>120009</td>\n",
       "      <td>53</td>\n",
       "      <td>3234</td>\n",
       "    </tr>\n",
       "    <tr>\n",
       "      <th>21705</th>\n",
       "      <td>21705</td>\n",
       "      <td>2</td>\n",
       "      <td>14809</td>\n",
       "    </tr>\n",
       "    <tr>\n",
       "      <th>204323</th>\n",
       "      <td>204323</td>\n",
       "      <td>39</td>\n",
       "      <td>18439</td>\n",
       "    </tr>\n",
       "    <tr>\n",
       "      <th>80654</th>\n",
       "      <td>80654</td>\n",
       "      <td>15</td>\n",
       "      <td>20455</td>\n",
       "    </tr>\n",
       "    <tr>\n",
       "      <th>60160</th>\n",
       "      <td>60160</td>\n",
       "      <td>25</td>\n",
       "      <td>1453</td>\n",
       "    </tr>\n",
       "  </tbody>\n",
       "</table>\n",
       "</div>"
      ],
      "text/plain": [
       "            ID  shop_id  item_id\n",
       "120009  120009       53     3234\n",
       "21705    21705        2    14809\n",
       "204323  204323       39    18439\n",
       "80654    80654       15    20455\n",
       "60160    60160       25     1453"
      ]
     },
     "execution_count": 5,
     "metadata": {},
     "output_type": "execute_result"
    }
   ],
   "source": [
    "test = utils.load_test()\n",
    "test.sample(5)"
   ]
  },
  {
   "cell_type": "markdown",
   "metadata": {},
   "source": [
    "## Data cleaning"
   ]
  },
  {
   "cell_type": "code",
   "execution_count": 6,
   "metadata": {},
   "outputs": [],
   "source": [
    "# Remove outliers\n",
    "train = train[train['item_price'] > 0]\n",
    "train = train[train['item_price'] < 100000]\n",
    "train = train[train['item_cnt_day'] < 2000]"
   ]
  },
  {
   "cell_type": "markdown",
   "metadata": {},
   "source": [
    "## Initial Data Parsing\n",
    "We start by aggregating daily data into monthly data, taking some different measures."
   ]
  },
  {
   "cell_type": "code",
   "execution_count": 7,
   "metadata": {
    "scrolled": true
   },
   "outputs": [
    {
     "data": {
      "text/html": [
       "<div>\n",
       "<style scoped>\n",
       "    .dataframe tbody tr th:only-of-type {\n",
       "        vertical-align: middle;\n",
       "    }\n",
       "\n",
       "    .dataframe tbody tr th {\n",
       "        vertical-align: top;\n",
       "    }\n",
       "\n",
       "    .dataframe thead th {\n",
       "        text-align: right;\n",
       "    }\n",
       "</style>\n",
       "<table border=\"1\" class=\"dataframe\">\n",
       "  <thead>\n",
       "    <tr style=\"text-align: right;\">\n",
       "      <th></th>\n",
       "      <th>date_block_num</th>\n",
       "      <th>shop_id</th>\n",
       "      <th>item_id</th>\n",
       "      <th>item_cnt_month</th>\n",
       "      <th>item_cnt_day_min</th>\n",
       "      <th>item_price_last</th>\n",
       "    </tr>\n",
       "  </thead>\n",
       "  <tbody>\n",
       "    <tr>\n",
       "      <th>689063</th>\n",
       "      <td>12</td>\n",
       "      <td>4</td>\n",
       "      <td>5036</td>\n",
       "      <td>2</td>\n",
       "      <td>1</td>\n",
       "      <td>1999.0</td>\n",
       "    </tr>\n",
       "    <tr>\n",
       "      <th>269118</th>\n",
       "      <td>4</td>\n",
       "      <td>31</td>\n",
       "      <td>14010</td>\n",
       "      <td>1</td>\n",
       "      <td>1</td>\n",
       "      <td>58.0</td>\n",
       "    </tr>\n",
       "    <tr>\n",
       "      <th>1183496</th>\n",
       "      <td>22</td>\n",
       "      <td>47</td>\n",
       "      <td>6426</td>\n",
       "      <td>1</td>\n",
       "      <td>1</td>\n",
       "      <td>2499.0</td>\n",
       "    </tr>\n",
       "    <tr>\n",
       "      <th>1063780</th>\n",
       "      <td>19</td>\n",
       "      <td>57</td>\n",
       "      <td>2124</td>\n",
       "      <td>1</td>\n",
       "      <td>1</td>\n",
       "      <td>599.0</td>\n",
       "    </tr>\n",
       "    <tr>\n",
       "      <th>750172</th>\n",
       "      <td>13</td>\n",
       "      <td>17</td>\n",
       "      <td>3280</td>\n",
       "      <td>1</td>\n",
       "      <td>1</td>\n",
       "      <td>299.0</td>\n",
       "    </tr>\n",
       "    <tr>\n",
       "      <th>862281</th>\n",
       "      <td>15</td>\n",
       "      <td>35</td>\n",
       "      <td>2808</td>\n",
       "      <td>11</td>\n",
       "      <td>1</td>\n",
       "      <td>999.0</td>\n",
       "    </tr>\n",
       "    <tr>\n",
       "      <th>511917</th>\n",
       "      <td>8</td>\n",
       "      <td>54</td>\n",
       "      <td>15257</td>\n",
       "      <td>1</td>\n",
       "      <td>1</td>\n",
       "      <td>1199.0</td>\n",
       "    </tr>\n",
       "    <tr>\n",
       "      <th>135881</th>\n",
       "      <td>2</td>\n",
       "      <td>18</td>\n",
       "      <td>6352</td>\n",
       "      <td>2</td>\n",
       "      <td>1</td>\n",
       "      <td>1949.0</td>\n",
       "    </tr>\n",
       "    <tr>\n",
       "      <th>1421575</th>\n",
       "      <td>28</td>\n",
       "      <td>15</td>\n",
       "      <td>3641</td>\n",
       "      <td>1</td>\n",
       "      <td>1</td>\n",
       "      <td>299.0</td>\n",
       "    </tr>\n",
       "    <tr>\n",
       "      <th>603226</th>\n",
       "      <td>10</td>\n",
       "      <td>42</td>\n",
       "      <td>19596</td>\n",
       "      <td>1</td>\n",
       "      <td>1</td>\n",
       "      <td>949.0</td>\n",
       "    </tr>\n",
       "  </tbody>\n",
       "</table>\n",
       "</div>"
      ],
      "text/plain": [
       "         date_block_num  shop_id  item_id  item_cnt_month  item_cnt_day_min  \\\n",
       "689063               12        4     5036               2                 1   \n",
       "269118                4       31    14010               1                 1   \n",
       "1183496              22       47     6426               1                 1   \n",
       "1063780              19       57     2124               1                 1   \n",
       "750172               13       17     3280               1                 1   \n",
       "862281               15       35     2808              11                 1   \n",
       "511917                8       54    15257               1                 1   \n",
       "135881                2       18     6352               2                 1   \n",
       "1421575              28       15     3641               1                 1   \n",
       "603226               10       42    19596               1                 1   \n",
       "\n",
       "         item_price_last  \n",
       "689063            1999.0  \n",
       "269118              58.0  \n",
       "1183496           2499.0  \n",
       "1063780            599.0  \n",
       "750172             299.0  \n",
       "862281             999.0  \n",
       "511917            1199.0  \n",
       "135881            1949.0  \n",
       "1421575            299.0  \n",
       "603226             949.0  "
      ]
     },
     "execution_count": 7,
     "metadata": {},
     "output_type": "execute_result"
    }
   ],
   "source": [
    "train = train.groupby(INDEX_COLUMNS).agg(operations_dict)\n",
    "# Parse dataframe\n",
    "train.columns = ['%s_%s' % c for c in train.columns]\n",
    "train = train.rename(columns={'item_cnt_day_sum': TARGET_LABEL})\n",
    "train = train.reset_index()\n",
    "# Show sample of rows\n",
    "train.sample(10)"
   ]
  },
  {
   "cell_type": "markdown",
   "metadata": {},
   "source": [
    "Now, before computing features, the data distributions should be fixed in order to be similar in train and test sets."
   ]
  },
  {
   "cell_type": "code",
   "execution_count": 8,
   "metadata": {},
   "outputs": [],
   "source": [
    "# train, test = distributions.fix_distributions(train, test, TARGET_LABEL)\n",
    "train = distributions.fix_train_distribution(train, TARGET_LABEL)"
   ]
  },
  {
   "cell_type": "markdown",
   "metadata": {},
   "source": [
    "In order to compute features for train and test sets at the same time, it will be appended to the train set."
   ]
  },
  {
   "cell_type": "code",
   "execution_count": 9,
   "metadata": {},
   "outputs": [],
   "source": [
    "# Append\n",
    "test['date_block_num'] = train['date_block_num'].max() + 1\n",
    "data_df = train.append(test.drop('ID', axis=1), sort=True)\n",
    "del train\n",
    "del test"
   ]
  },
  {
   "cell_type": "code",
   "execution_count": 10,
   "metadata": {},
   "outputs": [
    {
     "name": "stdout",
     "output_type": "stream",
     "text": [
      "<class 'pandas.core.frame.DataFrame'>\n",
      "Int64Index: 11128004 entries, 1614236 to 214199\n",
      "Data columns (total 6 columns):\n",
      "date_block_num      int8\n",
      "item_cnt_day_min    float16\n",
      "item_cnt_month      float32\n",
      "item_id             int16\n",
      "item_price_last     float16\n",
      "shop_id             int8\n",
      "dtypes: float16(2), float32(1), int16(1), int8(2)\n",
      "memory usage: 212.2 MB\n"
     ]
    }
   ],
   "source": [
    "# Downcast data\n",
    "dtypes = {\n",
    "    'date_block_num': np.int8,\n",
    "    'item_cnt_day_min': np.float16,\n",
    "    'item_id': np.int16,\n",
    "    'shop_id': np.int8,\n",
    "    'item_price_last': np.float16,\n",
    "    'item_cnt_month': np.float32\n",
    "}\n",
    "for c, tp in dtypes.items():\n",
    "    data_df[c] = data_df[c].astype(tp)\n",
    "    \n",
    "data_df.info()"
   ]
  },
  {
   "cell_type": "markdown",
   "metadata": {},
   "source": [
    "Now we are in conditions to compute features.\n",
    "\n",
    "The features can be split into these categories:\n",
    "\n",
    "    1. Lag features: related to previous sales\n",
    "    2. Prices features: related to previous prices\n",
    "    3. Date features: related to current month"
   ]
  },
  {
   "cell_type": "code",
   "execution_count": 11,
   "metadata": {},
   "outputs": [],
   "source": [
    "def last_true_idx(arr):\n",
    "    trues = np.argwhere(arr)\n",
    "    return np.nan if len(trues) == 0 else trues[-1]\n",
    "\n",
    "\n",
    "def first_true_idx(arr):\n",
    "    trues = np.argwhere(arr)\n",
    "    return np.nan if len(trues) == 0 else trues[0]\n",
    "\n",
    "\n",
    "class Features:\n",
    "    \n",
    "    def __init__(self, df):\n",
    "        self.df = df\n",
    "        \n",
    "    def lag_feature(self, column, lags, drop=False):\n",
    "        for l in lags:\n",
    "            lag_df = self.df[INDEX_COLUMNS + [column]]\n",
    "            lag_df[MONTH_INT_LABEL] += l\n",
    "            lag_df = lag_df.rename(columns={column: '%s_L%s' % (column, l)})\n",
    "            self.df = self.df.merge(lag_df, on=INDEX_COLUMNS, how='left')\n",
    "        \n",
    "        if drop:\n",
    "            self.drop_column(column)\n",
    "            \n",
    "    def drop_column(self, c):\n",
    "        self.df.drop(c, axis=1, inplace=True)\n",
    "        \n",
    "    def mean_encode(self, gb_columns, label, lags):\n",
    "        month_avg = self.df.groupby(gb_columns)[TARGET_LABEL].mean()\n",
    "        month_avg.name = label\n",
    "        month_avg = month_avg.dropna().reset_index()\n",
    "        self.df = self.df.merge(month_avg, on=gb_columns, how='left')\n",
    "        self.df[label] = self.df[label].astype(np.float16)\n",
    "        self.lag_feature(label, lags, drop=True)\n",
    "        \n",
    "    def add_price_trend(self, operation, label):\n",
    "        op_dict = {'item_price_last_L1': operation}\n",
    "        df = self.df.groupby([MONTH_INT_LABEL, 'item_id']).agg(op_dict)\n",
    "        df = df.astype(np.float32).unstack().ffill(limit=6)\n",
    "        df -= df.shift(1)\n",
    "        df = df.stack()\n",
    "        df.columns = [label]\n",
    "        df[label] = df[label].astype(np.float16)\n",
    "        df = df.reset_index()\n",
    "        self.df = self.df.merge(df, on=[MONTH_INT_LABEL, 'item_id'], how='left')\n",
    "        \n",
    "    def add_cumulative_sales(self, by_column, name, dtype):\n",
    "        res_df = pd.pivot_table(\n",
    "            self.df,\n",
    "            values=TARGET_LABEL,\n",
    "            index=MONTH_INT_LABEL,\n",
    "            columns=['shop_id', by_column],\n",
    "            aggfunc='sum'\n",
    "        )\n",
    "        res_df = res_df.clip(lower=0.0).iloc[:-1].cumsum().ffill()\n",
    "        res_df = res_df.unstack().dropna()\n",
    "        res_df = res_df[res_df != 0.0]\n",
    "        res_df.name = name\n",
    "        res_df = res_df.reset_index()\n",
    "        on = [c for c in res_df.columns if c != name]\n",
    "        self.df = self.df.merge(res_df, on=on, how='left')\n",
    "        # Lag feature by one month\n",
    "        self.lag_feature(name, [1], drop=True)\n",
    "        # Final parsing\n",
    "        lag_name = '%s_L1' % name\n",
    "        self.df[lag_name] = self.df[lag_name].fillna(0.0).astype(dtype)\n",
    "    \n",
    "    def sales_happened(self, idx):\n",
    "        \"\"\" Computes months when there were sales \"\"\"\n",
    "        clipped_df = self.df[idx + [MONTH_INT_LABEL, TARGET_LABEL]]\n",
    "        clipped_df[TARGET_LABEL] = clipped_df[TARGET_LABEL].clip(lower=0.0)\n",
    "        # Re-shape data\n",
    "        pt = pd.pivot_table(\n",
    "            clipped_df,\n",
    "            index=MONTH_INT_LABEL,\n",
    "            values=TARGET_LABEL,\n",
    "            columns=idx,\n",
    "            aggfunc='sum'\n",
    "        )\n",
    "        pt.replace(0.0, np.nan, inplace=True)\n",
    "        pt.dropna(how='all', axis=1, inplace=True)\n",
    "        \n",
    "        return ~pt.isnull()\n",
    "    \n",
    "    def apply_sales_func(self, idx, name, func):\n",
    "        # Get months when there were sales\n",
    "        pt = self.sales_happened(idx)\n",
    "        # Compute last true value\n",
    "        pt = pt.rolling(len(pt), min_periods=0).apply(func, raw=True)\n",
    "        # Lag one month\n",
    "        pt = pt.shift(1)\n",
    "        # Stack all columns\n",
    "        while isinstance(pt, pd.DataFrame):\n",
    "            pt = pt.stack()\n",
    "        # Last parsing\n",
    "        pt.name = name\n",
    "        pt = pt.dropna().reset_index()\n",
    "        pt[name] = pt[MONTH_INT_LABEL] - pt[name]\n",
    "        # Merge\n",
    "        self.df = self.df.merge(pt, on=idx + [MONTH_INT_LABEL], how='left')\n",
    "    \n",
    "    def add_last_sale(self, idx, name):\n",
    "        self.apply_sales_func(idx, name, last_true_idx)\n",
    "        \n",
    "    def add_first_sale(self, idx, name):\n",
    "        self.apply_sales_func(idx, name, first_true_idx)\n",
    "\n",
    "    @property\n",
    "    def last_month(self):\n",
    "        return self.df['date_block_num'].max()\n",
    "    \n",
    "    @property\n",
    "    def train(self):\n",
    "        return self.df[self.df['date_block_num'] < self.last_month]\n",
    "    \n",
    "    @property\n",
    "    def test(self):\n",
    "        return self.df[self.df['date_block_num'] == self.last_month].drop(TARGET_LABEL, axis=1)\n"
   ]
  },
  {
   "cell_type": "code",
   "execution_count": 12,
   "metadata": {},
   "outputs": [],
   "source": [
    "data = Features(data_df)\n",
    "del data_df"
   ]
  },
  {
   "cell_type": "markdown",
   "metadata": {},
   "source": [
    "## Item categories\n",
    "Add item categories features to the features DataFrame"
   ]
  },
  {
   "cell_type": "code",
   "execution_count": 13,
   "metadata": {},
   "outputs": [],
   "source": [
    "# Load files\n",
    "data_dir = utils.get_data_dir()\n",
    "items_dtype = {\n",
    "    'item_id': np.int16, 'item_category_id': np.int8,\n",
    "    'in_PC': np.float16, 'in_version': np.float16, 'icn_games': np.float16,\n",
    "    'type_code': np.int8, 'subtype_code': np.int8,\n",
    "    'meta_cat': np.int8\n",
    "}\n",
    "shops_dtype = {\n",
    "    'shop_id': np.int8,\n",
    "    'sn_Moscow': np.float16,\n",
    "    'city_code': np.int8,\n",
    "}\n",
    "items = pd.read_csv(data_dir + '/processed/items.csv', dtype=items_dtype)\n",
    "shops = pd.read_csv(data_dir + '/processed/shops.csv', dtype=shops_dtype)"
   ]
  },
  {
   "cell_type": "code",
   "execution_count": 14,
   "metadata": {},
   "outputs": [],
   "source": [
    "data.df = data.df.merge(items, on='item_id', how='left')\n",
    "data.df = data.df.merge(shops, on='shop_id', how='left')"
   ]
  },
  {
   "cell_type": "markdown",
   "metadata": {},
   "source": [
    "## Games Releases Dates"
   ]
  },
  {
   "cell_type": "code",
   "execution_count": 15,
   "metadata": {},
   "outputs": [],
   "source": [
    "# Load data\n",
    "columns = ['title', 'platform', 'release_year', 'release_month', 'release_day']\n",
    "games_info = pd.read_csv(utils.get_data_dir() + '/external/ign.csv', usecols=columns)\n",
    "items_raw = pd.read_csv(utils.get_data_dir() + '/raw/items.csv')\n",
    "cats_raw = pd.read_csv(utils.get_data_dir() + '/raw/item_categories.csv')"
   ]
  },
  {
   "cell_type": "code",
   "execution_count": 16,
   "metadata": {},
   "outputs": [],
   "source": [
    "# Get games items\n",
    "items_raw = items_raw.merge(cats_raw, on='item_category_id', how='left')\n",
    "games_cats = list(range(18, 32))\n",
    "games_cats.remove(25)  # Remove acessories for games\n",
    "games_items = items_raw[items_raw['item_category_id'].isin(games_cats)]\n",
    "del items_raw\n",
    "del cats_raw"
   ]
  },
  {
   "cell_type": "code",
   "execution_count": 17,
   "metadata": {},
   "outputs": [],
   "source": [
    "# Clean names of some best sellers\n",
    "corrections = {\n",
    "    'Одни из нас [PS3, русская версия]': 'The Last of Us [PS3, Russian version]',\n",
    "    'Одни из нас. Обновленная версия [PS4, русская версия]': 'The Last of Us Remastered [PS4, Russian version]',\n",
    "    'Sims 3: Набор для новичков [PC, русская версия]': 'The Sims 3: Starter Pack [PC, Russian version]',\n",
    "    'Need for Speed: Most Wanted (a Criterion Game) Limited Edition [PC, русская версия]': 'Need for Speed: Most Wanted [PC, Russian Version]',\n",
    "    'InFAMOUS: Второй сын [PS4, русская версия]': 'Infamous Second Son [PS4, Russian Version]',\n",
    "    'Метро. Луч надежды. Ограниченное издание [PC, русская версия]': 'Metro. Last Light. [PC, Russian Version]',\n",
    "    'Sims 3: Райские острова (дополнение) [PC, русская версия]': 'The Sims 3: Island Paradise [PC, Russian Version]'\n",
    "}\n",
    "for old, new in corrections.items():\n",
    "    games_items.loc[games_items.item_name == old, 'item_name'] = new"
   ]
  },
  {
   "cell_type": "code",
   "execution_count": 18,
   "metadata": {},
   "outputs": [],
   "source": [
    "# Compute platform column\n",
    "def get_translation(v):\n",
    "    for p in ['PC', 'MAC', 'Android']:\n",
    "        if p in v:\n",
    "            return p\n",
    "    return v.split('-')[1].strip()\n",
    "\n",
    "translations = {v: get_translation(v) for v in games_items['item_category_name'].unique()}\n",
    "games_items['platform'] = games_items['item_category_name'].apply(lambda x: translations[x])"
   ]
  },
  {
   "cell_type": "code",
   "execution_count": 19,
   "metadata": {},
   "outputs": [],
   "source": [
    "# Manual fix some games names\n",
    "# Resident Evil 2015\n",
    "games_info.loc[games_info.title == 'Resident Evil', 'title'] = 'Resident Evil [2015]'\n",
    "# Gauntlet 2015\n",
    "games_info.loc[games_info.title == 'Gauntlet', 'title'] = 'Gauntlet [2015]'\n",
    "# Fix FIFA 14 release date\n",
    "games_info.loc[games_info.title == 'FIFA 14', 'release_month'] = 9\n",
    "games_info.loc[games_info.title == 'FIFA 14', 'release_day'] = 23\n",
    "# Fix X Rebirth release date\n",
    "games_info.loc[games_info.title == 'X Rebirth', 'release_month'] = 11\n",
    "games_info.loc[games_info.title == 'X Rebirth', 'release_day'] = 15\n",
    "# Fix Sunset Overdrive release date\n",
    "games_info.loc[games_info.title == 'Sunset Overdrive', 'release_year'] = 2014\n",
    "games_info.loc[games_info.title == 'Sunset Overdrive', 'release_month'] = 10\n",
    "games_info.loc[games_info.title == 'Sunset Overdrive', 'release_day'] = 31"
   ]
  },
  {
   "cell_type": "code",
   "execution_count": 20,
   "metadata": {},
   "outputs": [],
   "source": [
    "# Slice games information to include years of training data (and 3 years before)\n",
    "games_info = games_info[games_info['release_year'] >= 2010]\n",
    "games_info = games_info[games_info['release_year'] <= 2015]"
   ]
  },
  {
   "cell_type": "code",
   "execution_count": 21,
   "metadata": {},
   "outputs": [],
   "source": [
    "# Translate platform to same format as in items\n",
    "translation = {\n",
    "    'PlayStation 3': 'PS3',\n",
    "    'PlayStation 4': 'PS4',\n",
    "    'Xbox One': 'XBOX ONE',\n",
    "    'Xbox 360': 'XBOX 360',\n",
    "    'PlayStation Portable': 'PSP',\n",
    "    'PlayStation Vita': 'PSVita',\n",
    "    'Macintosh': 'MAC'\n",
    "}\n",
    "games_info['platform'] = games_info['platform'].apply(lambda x: translation.get(x, x))"
   ]
  },
  {
   "cell_type": "code",
   "execution_count": 22,
   "metadata": {},
   "outputs": [],
   "source": [
    "def clean_string(s, rem_symbols=u\",!?.;:-''()[]\"):\n",
    "    return s.translate(dict.fromkeys(map(ord, rem_symbols))).upper()\n",
    "\n",
    "games_info['title_clean'] = games_info['title'].apply(clean_string)"
   ]
  },
  {
   "cell_type": "code",
   "execution_count": 23,
   "metadata": {},
   "outputs": [],
   "source": [
    "# Find closest game name match\n",
    "plat_games = {\n",
    "    p: list(games_info[games_info['platform'] == p]['title_clean'].values)\n",
    "    for p in games_info['platform'].unique()\n",
    "}\n",
    "matches_lst = []\n",
    "for _, r in games_items.iterrows():\n",
    "    name = r['item_name']\n",
    "    plat = r['platform']\n",
    "    # Remove square brackets and clean name\n",
    "    name = clean_string(re.sub(r'\\[[^\\]]*\\]', '', name))\n",
    "    # Find match\n",
    "    possibilities = plat_games.get(plat, [])\n",
    "    matches = [p for p in possibilities if name in p or p in name]\n",
    "    if len(matches) > 1:\n",
    "        # If there is more than one match, select the one with the most similar length\n",
    "        len_diffs = [abs(len(name) - len(m)) for m in matches]\n",
    "        min_len_idx = len_diffs.index(min(len_diffs))\n",
    "        match = matches[min_len_idx]\n",
    "    elif len(matches) == 1:\n",
    "        match = matches[0]\n",
    "    else:\n",
    "        match = ''\n",
    "        \n",
    "    # Add size constraint\n",
    "    if abs(len(match) - len(name)) > 0.4 * len(name):\n",
    "        match = ''\n",
    "    matches_lst.append(match)\n",
    "\n",
    "games_items['item_match'] = matches_lst"
   ]
  },
  {
   "cell_type": "code",
   "execution_count": 24,
   "metadata": {},
   "outputs": [],
   "source": [
    "# Merge to get release dates information\n",
    "items_mg = games_items[games_items.item_match != '']\n",
    "games_mg = games_info.rename(columns={'title_clean': 'item_match'})\n",
    "games_items = items_mg.merge(games_mg, on=['platform', 'item_match'])"
   ]
  },
  {
   "cell_type": "code",
   "execution_count": 25,
   "metadata": {},
   "outputs": [],
   "source": [
    "cols = ['item_id', 'release_year', 'release_month', 'release_day']\n",
    "data.df = data.df.merge(games_items[cols], how='left', on='item_id').sort_values(INDEX_COLUMNS)"
   ]
  },
  {
   "cell_type": "code",
   "execution_count": 26,
   "metadata": {},
   "outputs": [],
   "source": [
    "dtypes = {'release_year': np.float16, 'release_month': np.float16, 'release_day': np.float16}\n",
    "for c, dtp in dtypes.items():\n",
    "    data.df[c] = data.df[c].astype(dtp)"
   ]
  },
  {
   "cell_type": "code",
   "execution_count": 27,
   "metadata": {},
   "outputs": [],
   "source": [
    "# Add month and year\n",
    "data.df['month'] = (data.df['date_block_num'] % 12 + 1).astype(np.int8)\n",
    "data.df['year'] = (2013 + data.df['date_block_num'] // 12).astype(np.int16)"
   ]
  },
  {
   "cell_type": "code",
   "execution_count": 28,
   "metadata": {},
   "outputs": [
    {
     "name": "stdout",
     "output_type": "stream",
     "text": [
      "CPU times: user 41 s, sys: 282 ms, total: 41.3 s\n",
      "Wall time: 41.3 s\n"
     ]
    }
   ],
   "source": [
    "%%time\n",
    "# Compute number of months until release (negative before release)\n",
    "def months_diff(y0, m0, y1, m1):\n",
    "    return (y1 - y0) * 12 + (m1 - m0)\n",
    "\n",
    "def df_months_diff(r):\n",
    "    return months_diff(r['release_year'], r['release_month'], r['year'], r['month'])\n",
    "\n",
    "\n",
    "cols = ['release_year', 'release_month', 'year', 'month', 'item_category_id', 'meta_cat']\n",
    "cols = cols + INDEX_COLUMNS + [TARGET_LABEL]\n",
    "small_df = data.df[~np.isnan(data.df.release_year)][cols]\n",
    "small_df['release_months'] = small_df.apply(df_months_diff, axis=1)"
   ]
  },
  {
   "cell_type": "code",
   "execution_count": 29,
   "metadata": {},
   "outputs": [],
   "source": [
    "def previous_months_encoding(df, idx, name, mean_window=12):\n",
    "    pt = pd.pivot_table(\n",
    "        df, \n",
    "        columns=idx, \n",
    "        index=MONTH_INT_LABEL, \n",
    "        values=TARGET_LABEL, \n",
    "        aggfunc='sum'\n",
    "    )\n",
    "    pt = pt.rolling(mean_window, min_periods=6).mean()\n",
    "    # Lag one month\n",
    "    pt = pt.shift(1)\n",
    "    # Stack all columns\n",
    "    while isinstance(pt, pd.DataFrame):\n",
    "        pt = pt.stack()\n",
    "    \n",
    "    # Last parsing\n",
    "    pt.name = name\n",
    "    pt = pt.dropna().reset_index()\n",
    "    \n",
    "    return df.merge(pt, on=idx + [MONTH_INT_LABEL], how='left')"
   ]
  },
  {
   "cell_type": "code",
   "execution_count": 30,
   "metadata": {},
   "outputs": [
    {
     "name": "stdout",
     "output_type": "stream",
     "text": [
      "CPU times: user 1.34 s, sys: 8.7 ms, total: 1.35 s\n",
      "Wall time: 1.35 s\n"
     ]
    }
   ],
   "source": [
    "%%time\n",
    "small_df = previous_months_encoding(small_df, ['release_months', 'shop_id'], 'release_shop')\n",
    "small_df = previous_months_encoding(small_df, ['release_months', 'item_category_id'], 'release_cat')\n",
    "small_df = previous_months_encoding(small_df, ['release_months', 'meta_cat'], 'release_metacat')"
   ]
  },
  {
   "cell_type": "code",
   "execution_count": 31,
   "metadata": {},
   "outputs": [
    {
     "name": "stdout",
     "output_type": "stream",
     "text": [
      "CPU times: user 25.8 s, sys: 28.1 ms, total: 25.8 s\n",
      "Wall time: 25.8 s\n"
     ]
    }
   ],
   "source": [
    "%%time\n",
    "small_df = previous_months_encoding(small_df, ['release_months', 'shop_id', 'item_category_id'], 'rel_shopcat')\n",
    "small_df = previous_months_encoding(small_df, ['release_months', 'shop_id', 'meta_cat'], 'rel_shopmetacat')"
   ]
  },
  {
   "cell_type": "code",
   "execution_count": 32,
   "metadata": {},
   "outputs": [],
   "source": [
    "# Downcast\n",
    "for c in ['release_months', 'release_shop', 'release_cat', 'release_metacat', 'rel_shopcat', 'rel_shopmetacat']:\n",
    "    small_df[c] = small_df[c].astype(np.float16)"
   ]
  },
  {
   "cell_type": "code",
   "execution_count": 33,
   "metadata": {},
   "outputs": [
    {
     "name": "stdout",
     "output_type": "stream",
     "text": [
      "CPU times: user 9.93 s, sys: 3.01 s, total: 12.9 s\n",
      "Wall time: 12.9 s\n"
     ]
    }
   ],
   "source": [
    "%%time\n",
    "# Merge data\n",
    "on = list(set(small_df.columns) & set(data.df.columns))\n",
    "data.df = data.df.merge(small_df, on=on, how='left')"
   ]
  },
  {
   "cell_type": "code",
   "execution_count": 34,
   "metadata": {},
   "outputs": [],
   "source": [
    "# Free memory\n",
    "del small_df\n",
    "to_drop = ['release_year', 'release_month', 'release_day', 'year']\n",
    "data.df = data.df.drop(to_drop, axis=1)"
   ]
  },
  {
   "cell_type": "markdown",
   "metadata": {},
   "source": [
    "## Lag features\n",
    "Let's create columns with lag features, i.e., with value of sales n months before current month."
   ]
  },
  {
   "cell_type": "code",
   "execution_count": 37,
   "metadata": {},
   "outputs": [
    {
     "name": "stdout",
     "output_type": "stream",
     "text": [
      "CPU times: user 39.2 s, sys: 15.3 s, total: 54.5 s\n",
      "Wall time: 54.5 s\n"
     ]
    }
   ],
   "source": [
    "%%time\n",
    "data.lag_feature(TARGET_LABEL, LAGS_WINDOWS)"
   ]
  },
  {
   "cell_type": "code",
   "execution_count": 38,
   "metadata": {},
   "outputs": [
    {
     "name": "stdout",
     "output_type": "stream",
     "text": [
      "CPU times: user 8.08 s, sys: 3.77 s, total: 11.9 s\n",
      "Wall time: 11.9 s\n"
     ]
    }
   ],
   "source": [
    "%%time\n",
    "data.lag_feature('item_cnt_day_min', [1], drop=True)"
   ]
  },
  {
   "cell_type": "code",
   "execution_count": 39,
   "metadata": {},
   "outputs": [],
   "source": [
    "# Downcast\n",
    "for c in ['%s_L%s' % (TARGET_LABEL, i) for i in LAGS_WINDOWS]:\n",
    "    data.df[c] = data.df[c].astype(np.float16)"
   ]
  },
  {
   "cell_type": "markdown",
   "metadata": {},
   "source": [
    "## Cumulative Sales Features"
   ]
  },
  {
   "cell_type": "code",
   "execution_count": 40,
   "metadata": {},
   "outputs": [
    {
     "name": "stdout",
     "output_type": "stream",
     "text": [
      "CPU times: user 27.9 s, sys: 11.4 s, total: 39.3 s\n",
      "Wall time: 39.3 s\n"
     ]
    }
   ],
   "source": [
    "%%time\n",
    "data.add_cumulative_sales('item_id', name='cum_sales', dtype=np.int16)"
   ]
  },
  {
   "cell_type": "code",
   "execution_count": 41,
   "metadata": {},
   "outputs": [
    {
     "name": "stdout",
     "output_type": "stream",
     "text": [
      "CPU times: user 17 s, sys: 8.52 s, total: 25.5 s\n",
      "Wall time: 25.5 s\n"
     ]
    }
   ],
   "source": [
    "%%time\n",
    "data.add_cumulative_sales('item_category_id', name='cum_cat_sales', dtype=np.int32)"
   ]
  },
  {
   "cell_type": "code",
   "execution_count": 42,
   "metadata": {},
   "outputs": [
    {
     "name": "stdout",
     "output_type": "stream",
     "text": [
      "CPU times: user 18 s, sys: 9.28 s, total: 27.3 s\n",
      "Wall time: 27.3 s\n"
     ]
    }
   ],
   "source": [
    "%%time\n",
    "data.add_cumulative_sales('meta_cat', name='cum_metacat_sales', dtype=np.int32)"
   ]
  },
  {
   "cell_type": "markdown",
   "metadata": {},
   "source": [
    "## Prices features\n",
    "Prices features will be, for each pair:\n",
    "    - minimum price of last month\n",
    "    - maximum price of last month\n",
    "    - last price of last month"
   ]
  },
  {
   "cell_type": "code",
   "execution_count": 43,
   "metadata": {},
   "outputs": [
    {
     "name": "stdout",
     "output_type": "stream",
     "text": [
      "CPU times: user 11.1 s, sys: 5.08 s, total: 16.2 s\n",
      "Wall time: 16.2 s\n"
     ]
    }
   ],
   "source": [
    "%%time\n",
    "col_labels = ['item_price_' + op for op in px_operations]\n",
    "for c in col_labels:\n",
    "    # Add lag\n",
    "    data.lag_feature(c, [1], drop=True)"
   ]
  },
  {
   "cell_type": "code",
   "execution_count": 44,
   "metadata": {},
   "outputs": [
    {
     "name": "stdout",
     "output_type": "stream",
     "text": [
      "CPU times: user 10 s, sys: 3.78 s, total: 13.8 s\n",
      "Wall time: 13.8 s\n"
     ]
    }
   ],
   "source": [
    "%%time\n",
    "# Add mean and min item price of previous month\n",
    "index_cols = [MONTH_INT_LABEL, 'item_id']\n",
    "px_df = data.df.groupby(index_cols).agg({'item_price_last_L1': ['mean', 'min']})\n",
    "px_df = px_df.dropna(how='all')\n",
    "px_df.columns = ['item_px_mean_L1', 'item_px_min_L1']\n",
    "data.df = data.df.merge(px_df, on=index_cols, how='left')"
   ]
  },
  {
   "cell_type": "code",
   "execution_count": 45,
   "metadata": {},
   "outputs": [
    {
     "name": "stdout",
     "output_type": "stream",
     "text": [
      "CPU times: user 14.1 s, sys: 6.47 s, total: 20.5 s\n",
      "Wall time: 20.5 s\n"
     ]
    }
   ],
   "source": [
    "%%time\n",
    "data.add_price_trend('mean', 'price_mean_trend')\n",
    "data.add_price_trend('min', 'price_min_trend')"
   ]
  },
  {
   "cell_type": "markdown",
   "metadata": {},
   "source": [
    "## Date features"
   ]
  },
  {
   "cell_type": "code",
   "execution_count": 46,
   "metadata": {},
   "outputs": [],
   "source": [
    "m_range = {}\n",
    "m_weekdays = {}\n",
    "for yy in [2013, 2014, 2015]:\n",
    "    m_range[yy] = {}\n",
    "    m_weekdays[yy] = {}\n",
    "    for mm in range(1, 12 + 1):\n",
    "        rng = monthrange(yy, mm)[1]\n",
    "        m_range[yy][mm] = rng\n",
    "        # Compute number of week days in month\n",
    "        start = date(yy, mm, 1)\n",
    "        end = date(yy, mm, rng)\n",
    "        weekdays = rrule.rrule(\n",
    "            rrule.DAILY, byweekday=range(0, 5), dtstart=start, until=end\n",
    "        )\n",
    "        m_weekdays[yy][mm] = len(list(weekdays))\n",
    "\n",
    "m_ranges = [m_range[yy][mm] for yy in [2013, 2014, 2015] for mm in range(1, 12 + 1)]\n",
    "m_weekend = [\n",
    "    m_range[yy][mm] - m_weekdays[yy][mm] \n",
    "    for yy in [2013, 2014, 2015] for mm in range(1, 12 + 1)\n",
    "]\n",
    "data.df['month_range'] = data.df[MONTH_INT_LABEL].map(pd.Series(m_ranges)).astype(np.int8)\n",
    "data.df['n_weekend'] = data.df[MONTH_INT_LABEL].map(pd.Series(m_weekend)).astype(np.int8)"
   ]
  },
  {
   "cell_type": "code",
   "execution_count": 47,
   "metadata": {},
   "outputs": [
    {
     "name": "stdout",
     "output_type": "stream",
     "text": [
      "CPU times: user 2min 52s, sys: 7.99 s, total: 3min\n",
      "Wall time: 2min 59s\n"
     ]
    }
   ],
   "source": [
    "%%time\n",
    "data.add_first_sale(['shop_id', 'item_id'], name='first_sale')"
   ]
  },
  {
   "cell_type": "code",
   "execution_count": 48,
   "metadata": {},
   "outputs": [
    {
     "name": "stdout",
     "output_type": "stream",
     "text": [
      "CPU times: user 17.3 s, sys: 3.95 s, total: 21.2 s\n",
      "Wall time: 20.9 s\n"
     ]
    }
   ],
   "source": [
    "%%time\n",
    "data.add_first_sale(['item_id'], name='item_first_sale')"
   ]
  },
  {
   "cell_type": "code",
   "execution_count": 49,
   "metadata": {},
   "outputs": [
    {
     "name": "stdout",
     "output_type": "stream",
     "text": [
      "CPU times: user 18.4 s, sys: 3.78 s, total: 22.2 s\n",
      "Wall time: 21.9 s\n"
     ]
    }
   ],
   "source": [
    "%%time\n",
    "data.add_last_sale(['item_id'], name='item_last_sale')"
   ]
  },
  {
   "cell_type": "code",
   "execution_count": 50,
   "metadata": {},
   "outputs": [
    {
     "name": "stdout",
     "output_type": "stream",
     "text": [
      "CPU times: user 2min 51s, sys: 7.65 s, total: 2min 58s\n",
      "Wall time: 2min 58s\n"
     ]
    }
   ],
   "source": [
    "%%time\n",
    "data.add_last_sale(['shop_id', 'item_id'], name='last_sale')"
   ]
  },
  {
   "cell_type": "code",
   "execution_count": 51,
   "metadata": {},
   "outputs": [],
   "source": [
    "# Downcast columns\n",
    "for c in ['first_sale', 'item_first_sale', 'item_last_sale', 'last_sale']:\n",
    "    data.df[c] = data.df[c].astype(np.float16)"
   ]
  },
  {
   "cell_type": "code",
   "execution_count": 52,
   "metadata": {},
   "outputs": [],
   "source": [
    "# Test 1\n",
    "fs_df = data.df[['first_sale', 'item_first_sale']].dropna()\n",
    "assert (fs_df['first_sale'] <= fs_df['item_first_sale']).eq(True).all()\n",
    "del fs_df\n",
    "# Test 2\n",
    "ls_df = data.df[['last_sale', 'item_last_sale']].dropna()\n",
    "assert (ls_df['item_last_sale'] <= ls_df['last_sale']).eq(True).all()\n",
    "del ls_df\n",
    "# Test 3\n",
    "df = data.df[['last_sale', 'first_sale']].dropna()\n",
    "assert (df['first_sale'] >= df['last_sale']).eq(True).all()\n",
    "del df\n",
    "# Test 4\n",
    "df = data.df[['item_last_sale', 'item_first_sale']].dropna()\n",
    "assert (df['item_first_sale'] >= df['item_last_sale']).eq(True).all()\n",
    "del df"
   ]
  },
  {
   "cell_type": "code",
   "execution_count": 53,
   "metadata": {},
   "outputs": [],
   "source": [
    "assert (data.df['first_sale'].dropna() > 0).eq(True).all()\n",
    "assert (data.df['item_first_sale'].dropna() > 0).eq(True).all()\n",
    "assert (data.df['item_last_sale'].dropna() > 0).eq(True).all()\n",
    "assert (data.df['last_sale'].dropna() > 0).eq(True).all()"
   ]
  },
  {
   "cell_type": "markdown",
   "metadata": {},
   "source": [
    "## Mean Encodings"
   ]
  },
  {
   "cell_type": "code",
   "execution_count": 54,
   "metadata": {},
   "outputs": [
    {
     "name": "stdout",
     "output_type": "stream",
     "text": [
      "CPU times: user 28.1 s, sys: 14 s, total: 42.1 s\n",
      "Wall time: 42.1 s\n"
     ]
    }
   ],
   "source": [
    "%%time\n",
    "# Month lag1 mean encoding\n",
    "data.mean_encode(['date_block_num'], 'month_avg', [1, 12])"
   ]
  },
  {
   "cell_type": "code",
   "execution_count": 55,
   "metadata": {},
   "outputs": [
    {
     "name": "stdout",
     "output_type": "stream",
     "text": [
      "CPU times: user 59.2 s, sys: 29.1 s, total: 1min 28s\n",
      "Wall time: 1min 28s\n"
     ]
    }
   ],
   "source": [
    "%%time\n",
    "data.mean_encode(['date_block_num', 'item_id'], 'month_item_avg', [1, 2, 3, 6])"
   ]
  },
  {
   "cell_type": "code",
   "execution_count": 56,
   "metadata": {},
   "outputs": [
    {
     "name": "stdout",
     "output_type": "stream",
     "text": [
      "CPU times: user 57.1 s, sys: 29.3 s, total: 1min 26s\n",
      "Wall time: 1min 26s\n"
     ]
    }
   ],
   "source": [
    "%%time\n",
    "data.mean_encode(['date_block_num', 'shop_id'], 'month_shop_avg', [1, 2, 3, 6])"
   ]
  },
  {
   "cell_type": "code",
   "execution_count": 57,
   "metadata": {},
   "outputs": [
    {
     "name": "stdout",
     "output_type": "stream",
     "text": [
      "CPU times: user 21.7 s, sys: 12.2 s, total: 33.9 s\n",
      "Wall time: 33.9 s\n"
     ]
    }
   ],
   "source": [
    "%%time\n",
    "data.mean_encode(['date_block_num', 'item_category_id'], 'month_cat_avg', [1])"
   ]
  },
  {
   "cell_type": "code",
   "execution_count": 58,
   "metadata": {},
   "outputs": [
    {
     "name": "stdout",
     "output_type": "stream",
     "text": [
      "CPU times: user 20.7 s, sys: 11.5 s, total: 32.2 s\n",
      "Wall time: 32.2 s\n"
     ]
    }
   ],
   "source": [
    "%%time\n",
    "data.mean_encode(['date_block_num', 'shop_id', 'item_category_id'], 'month_shopcat_avg', [1])"
   ]
  },
  {
   "cell_type": "code",
   "execution_count": 59,
   "metadata": {},
   "outputs": [
    {
     "name": "stdout",
     "output_type": "stream",
     "text": [
      "CPU times: user 21 s, sys: 11.5 s, total: 32.5 s\n",
      "Wall time: 32.5 s\n"
     ]
    }
   ],
   "source": [
    "%%time\n",
    "data.mean_encode(['date_block_num', 'city_code'], 'month_city_avg', [1])"
   ]
  },
  {
   "cell_type": "code",
   "execution_count": 60,
   "metadata": {},
   "outputs": [
    {
     "name": "stdout",
     "output_type": "stream",
     "text": [
      "CPU times: user 26.2 s, sys: 12.9 s, total: 39.1 s\n",
      "Wall time: 39.1 s\n"
     ]
    }
   ],
   "source": [
    "%%time\n",
    "data.mean_encode(['date_block_num', 'item_id', 'city_code'], 'month_itemcity_avg', [1])"
   ]
  },
  {
   "cell_type": "markdown",
   "metadata": {},
   "source": [
    "## Features correlations"
   ]
  },
  {
   "cell_type": "code",
   "execution_count": 61,
   "metadata": {},
   "outputs": [],
   "source": [
    "corrs = data.df.sample(2**22).corr()"
   ]
  },
  {
   "cell_type": "code",
   "execution_count": 62,
   "metadata": {},
   "outputs": [
    {
     "data": {
      "text/plain": [
       "<matplotlib.axes._subplots.AxesSubplot at 0x7fd1287d24a8>"
      ]
     },
     "execution_count": 62,
     "metadata": {},
     "output_type": "execute_result"
    },
    {
     "data": {
      "image/png": "[encoded data removed]",
      "text/plain": [
       "<Figure size 1008x720 with 2 Axes>"
      ]
     },
     "metadata": {},
     "output_type": "display_data"
    }
   ],
   "source": [
    "sns.set(rc={'figure.figsize':(14, 10)})\n",
    "sns.heatmap(corrs.abs())"
   ]
  },
  {
   "cell_type": "markdown",
   "metadata": {},
   "source": [
    "# Save features\n",
    "Finally, split into train and test and save to hdf5 files."
   ]
  },
  {
   "cell_type": "code",
   "execution_count": 63,
   "metadata": {},
   "outputs": [
    {
     "name": "stdout",
     "output_type": "stream",
     "text": [
      "<class 'pandas.core.frame.DataFrame'>\n",
      "Int64Index: 11128139 entries, 0 to 11128138\n",
      "Data columns (total 54 columns):\n",
      "date_block_num           int8\n",
      "item_cnt_month           float32\n",
      "item_id                  int16\n",
      "shop_id                  int8\n",
      "item_category_id         int8\n",
      "in_PC                    float16\n",
      "in_version               float16\n",
      "icn_games                float16\n",
      "type_code                int8\n",
      "subtype_code             int8\n",
      "meta_cat                 int8\n",
      "sn_Moscow                float16\n",
      "city_code                int8\n",
      "month                    int8\n",
      "release_months           float16\n",
      "release_shop             float16\n",
      "release_cat              float16\n",
      "release_metacat          float16\n",
      "rel_shopcat              float16\n",
      "rel_shopmetacat          float16\n",
      "item_cnt_month_L1        float16\n",
      "item_cnt_month_L2        float16\n",
      "item_cnt_month_L3        float16\n",
      "item_cnt_month_L6        float16\n",
      "item_cnt_month_L12       float16\n",
      "item_cnt_day_min_L1      float16\n",
      "cum_sales_L1             int16\n",
      "cum_cat_sales_L1         int32\n",
      "cum_metacat_sales_L1     int32\n",
      "item_price_last_L1       float16\n",
      "item_px_mean_L1          float16\n",
      "item_px_min_L1           float16\n",
      "price_mean_trend         float16\n",
      "price_min_trend          float16\n",
      "month_range              int8\n",
      "n_weekend                int8\n",
      "first_sale               float16\n",
      "item_first_sale          float16\n",
      "item_last_sale           float16\n",
      "last_sale                float16\n",
      "month_avg_L1             float16\n",
      "month_avg_L12            float16\n",
      "month_item_avg_L1        float16\n",
      "month_item_avg_L2        float16\n",
      "month_item_avg_L3        float16\n",
      "month_item_avg_L6        float16\n",
      "month_shop_avg_L1        float16\n",
      "month_shop_avg_L2        float16\n",
      "month_shop_avg_L3        float16\n",
      "month_shop_avg_L6        float16\n",
      "month_cat_avg_L1         float16\n",
      "month_shopcat_avg_L1     float16\n",
      "month_city_avg_L1        float16\n",
      "month_itemcity_avg_L1    float16\n",
      "dtypes: float16(39), float32(1), int16(2), int32(2), int8(10)\n",
      "memory usage: 1.2 GB\n"
     ]
    }
   ],
   "source": [
    "data.df.info()"
   ]
  },
  {
   "cell_type": "code",
   "execution_count": 64,
   "metadata": {},
   "outputs": [],
   "source": [
    "# Save to HDF5 files\n",
    "data_path = '../data/processed/'\n",
    "data.train.to_hdf(data_path + 'train_features.h5', key='df', mode='w')\n",
    "data.test.to_hdf(data_path + 'test_features.h5', key='df', mode='w')"
   ]
  },
  {
   "cell_type": "code",
   "execution_count": null,
   "metadata": {},
   "outputs": [],
   "source": []
  },
  {
   "cell_type": "code",
   "execution_count": null,
   "metadata": {},
   "outputs": [],
   "source": []
  }
 ],
 "metadata": {
  "kernelspec": {
   "display_name": "Kaggle Future Sales",
   "language": "python",
   "name": "future_sales"
  },
  "language_info": {
   "codemirror_mode": {
    "name": "ipython",
    "version": 3
   },
   "file_extension": ".py",
   "mimetype": "text/x-python",
   "name": "python",
   "nbconvert_exporter": "python",
   "pygments_lexer": "ipython3",
   "version": "3.6.5"
  }
 },
 "nbformat": 4,
 "nbformat_minor": 2
}
