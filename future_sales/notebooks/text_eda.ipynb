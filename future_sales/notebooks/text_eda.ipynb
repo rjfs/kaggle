{
 "cells": [
  {
   "cell_type": "code",
   "execution_count": 1,
   "metadata": {},
   "outputs": [],
   "source": [
    "import numpy as np\n",
    "import pandas as pd \n",
    "from tqdm import tqdm_notebook\n",
    "import os\n",
    "import sys\n",
    "import datetime\n",
    "import os.path\n",
    "from calendar import monthrange\n",
    "\n",
    "import matplotlib.pyplot as plt\n",
    "import matplotlib as mpl\n",
    "from matplotlib import rc\n",
    "from cycler import cycler\n",
    "%matplotlib inline\n",
    "\n",
    "from dateutil import rrule\n",
    "from datetime import date\n",
    " \n",
    "mpl.rcParams['axes.prop_cycle'] = cycler('color', ['#ff0000', '#0000ff',   '#00ffff','#ffA300', '#00ff00', \n",
    "     '#ff00ff', '#990000', '#009999', '#999900', '#009900', '#009999'])\n",
    "\n",
    "rc('font', size=16)\n",
    "rc('font',**{'family':'serif','serif':['Computer Modern']})\n",
    "rc('text', usetex=False)\n",
    "rc('figure', figsize=(12, 10))\n",
    "rc('axes', linewidth=.5)\n",
    "rc('lines', linewidth=1.75)\n",
    "\n",
    "pd.options.mode.chained_assignment = None  # default='warn'\n",
    "\n",
    "sys.path.append(\"../src\") # Adds directory to python modules path.\n",
    "from models import utils\n",
    "from data import distributions"
   ]
  },
  {
   "cell_type": "code",
   "execution_count": 2,
   "metadata": {},
   "outputs": [],
   "source": [
    "from googletrans import Translator\n",
    "from sklearn.feature_extraction.text import TfidfVectorizer\n",
    "from sklearn.preprocessing import LabelEncoder"
   ]
  },
  {
   "cell_type": "code",
   "execution_count": 3,
   "metadata": {},
   "outputs": [],
   "source": [
    "# Load files\n",
    "items = utils.load_raw_data('items.csv')\n",
    "shops = utils.load_raw_data('shops.csv')\n",
    "item_cats = utils.load_raw_data('item_categories.csv')"
   ]
  },
  {
   "cell_type": "code",
   "execution_count": 4,
   "metadata": {},
   "outputs": [],
   "source": [
    "# Translate to English\n",
    "translator = Translator()\n",
    "item_cats['item_category_name_en'] = item_cats['item_category_name'].apply(\n",
    "    lambda x: translator.translate(x, src='ru').text\n",
    ")\n",
    "shops['shop_name_en'] = shops['shop_name'].apply(\n",
    "    lambda x: translator.translate(x, src='ru').text\n",
    ")"
   ]
  },
  {
   "cell_type": "code",
   "execution_count": 7,
   "metadata": {},
   "outputs": [],
   "source": [
    "# Add meta category\n",
    "meta_cat = item_cats['item_category_name_en'].apply(lambda x: x.split(' - ')[0])\n",
    "meta_cat.iloc[0] = item_cats['item_category_name_en'].iloc[0].split(' / ')[0]\n",
    "meta_cat.iloc[25] = item_cats['item_category_name_en'].iloc[25].split(' - ')[1]\n",
    "meta_cat.iloc[26] = 'Phone Games'\n",
    "meta_cat.iloc[27] = 'Phone Games'\n",
    "meta_cat.iloc[32] = 'Payment Cards'\n",
    "meta_cat.iloc[40] = 'Movies'\n",
    "meta_cat.iloc[41] = 'Movies'\n",
    "meta_cat.iloc[81] = 'Clean'\n",
    "meta_cat.iloc[82] = 'Clean'\n",
    "item_cats['meta_cat'] = LabelEncoder().fit_transform(meta_cat)"
   ]
  },
  {
   "cell_type": "code",
   "execution_count": 9,
   "metadata": {},
   "outputs": [],
   "source": [
    "def translate_list(l):\n",
    "    translator = Translator()\n",
    "    return [translator.translate(w, src='ru').text for w in l]"
   ]
  },
  {
   "cell_type": "code",
   "execution_count": 10,
   "metadata": {},
   "outputs": [],
   "source": [
    "def tokenize_doc(doc):\n",
    "    clean_chars = [',', '(', ')', '[', ']', '\"', '!', '.']\n",
    "    rem_words = set(['-', ''])\n",
    "    # Remove characters\n",
    "    for c in clean_chars:\n",
    "        doc = doc.replace(c, '')\n",
    "    \n",
    "    out = [w for w in doc.lower().split() if w not in rem_words]\n",
    "    # Add bigrams\n",
    "    bigrams = ['%s %s' % (out[i], out[i + 1]) for i in range(len(out) - 1)]\n",
    "    \n",
    "    return set(out) | set(bigrams)\n",
    "    \n",
    "    \n",
    "def get_tfidf(s):    \n",
    "    vectorizer = TfidfVectorizer(\n",
    "        norm='l2', tokenizer=tokenize_doc,\n",
    "        min_df=0.1, max_df=0.5,\n",
    "        # max_features=5\n",
    "    )\n",
    "    response = vectorizer.fit_transform(s.values)\n",
    "    df = pd.DataFrame(response.toarray())\n",
    "    df.columns = translate_list(vectorizer.get_feature_names())\n",
    "    return df\n",
    "\n",
    "\n",
    "def add_tfidf(df, column):\n",
    "    tfidf = get_tfidf(df[column])\n",
    "    prefix = ''.join([i[0] for i in column.split('_')])\n",
    "    tfidf.columns = ['%s_%s' % (prefix, c) for c in tfidf.columns]\n",
    "    return df.join(tfidf)"
   ]
  },
  {
   "cell_type": "code",
   "execution_count": 11,
   "metadata": {},
   "outputs": [],
   "source": [
    "items = add_tfidf(items, 'item_name')\n",
    "shops = add_tfidf(shops, 'shop_name')\n",
    "item_cats = add_tfidf(item_cats, 'item_category_name')"
   ]
  },
  {
   "cell_type": "code",
   "execution_count": 12,
   "metadata": {},
   "outputs": [],
   "source": [
    "items_ext = items.merge(item_cats, on='item_category_id')"
   ]
  },
  {
   "cell_type": "markdown",
   "metadata": {},
   "source": [
    "## Feature selection"
   ]
  },
  {
   "cell_type": "code",
   "execution_count": 13,
   "metadata": {},
   "outputs": [],
   "source": [
    "items_ext = utils.downcast_dtypes(items_ext)\n",
    "shops = utils.downcast_dtypes(shops)"
   ]
  },
  {
   "cell_type": "code",
   "execution_count": 14,
   "metadata": {},
   "outputs": [
    {
     "name": "stdout",
     "output_type": "stream",
     "text": [
      "merging shops\n",
      "merging items\n",
      "<class 'pandas.core.frame.DataFrame'>\n",
      "Int64Index: 10906930 entries, 0 to 10906929\n",
      "Data columns (total 23 columns):\n",
      "date_block_num           int32\n",
      "shop_id                  int32\n",
      "item_id                  int32\n",
      "item_cnt_month           float32\n",
      "shop_name                object\n",
      "shop_name_en             object\n",
      "sn_mega                  float32\n",
      "sn_Moscow                float32\n",
      "sn_moscow tc             float32\n",
      "sn_trc                   float32\n",
      "sn_tsh                   float32\n",
      "sn_tc mega               float32\n",
      "item_name                object\n",
      "item_category_id         int32\n",
      "in_PC                    float32\n",
      "in_version               float32\n",
      "item_category_name       object\n",
      "item_category_name_en    object\n",
      "meta_cat                 int32\n",
      "icn_games                float32\n",
      "icn_books                float32\n",
      "icn_gifts                float32\n",
      "icn_numeral              float32\n",
      "dtypes: float32(13), int32(5), object(5)\n",
      "memory usage: 1.2+ GB\n"
     ]
    }
   ],
   "source": [
    "data = utils.load_monthly_data()\n",
    "data = distributions.fix_train_distribution(data)\n",
    "print('merging shops')\n",
    "data = data.merge(shops, on='shop_id')\n",
    "print('merging items')\n",
    "data = data.merge(items_ext, on='item_id')\n",
    "data = utils.downcast_dtypes(data)\n",
    "data.info()"
   ]
  },
  {
   "cell_type": "code",
   "execution_count": 15,
   "metadata": {},
   "outputs": [],
   "source": [
    "rem_cols = [\n",
    "    'date_block_num', 'shop_id', 'item_id', 'item_cnt_month', 'item_category_id',\n",
    "    'shop_name', 'shop_name_en', 'item_name', 'item_name_en',\n",
    "    'item_category_name', 'item_category_name_en'\n",
    "]\n",
    "cols = [c for c in data.columns if c not in rem_cols]\n",
    "samp_data = data.sample(2**21)\n",
    "x_train = samp_data[cols]\n",
    "y_train = samp_data['item_cnt_month']"
   ]
  },
  {
   "cell_type": "code",
   "execution_count": 16,
   "metadata": {},
   "outputs": [
    {
     "name": "stdout",
     "output_type": "stream",
     "text": [
      "('sn_mega', 0.012185496289381648)\n",
      "('sn_Moscow', 0.15207052774481017)\n",
      "('sn_moscow tc', 0.025179021843648834)\n",
      "('sn_trc', 0.13228441108425501)\n",
      "('sn_tsh', 0.087075802634659583)\n",
      "('sn_tc mega', 0.0072733920793189161)\n",
      "('in_PC', 0.032075496496021635)\n",
      "('in_version', 0.084729891364759585)\n",
      "('meta_cat', 0.26893544390704122)\n",
      "('icn_games', 0.16817464698925494)\n",
      "('icn_books', 0.0067735790799959656)\n",
      "('icn_gifts', 0.015752851767275165)\n",
      "('icn_numeral', 0.0074894387195772391)\n",
      "RMSE: 3.5497\n",
      "All zeros RMSE: 3.5999\n"
     ]
    }
   ],
   "source": [
    "from sklearn.ensemble import RandomForestRegressor\n",
    "from sklearn.metrics import mean_squared_error\n",
    "# Create a random forest classifier\n",
    "clf = RandomForestRegressor(n_estimators=10, random_state=0)\n",
    "# Train the classifier\n",
    "clf.fit(x_train, y_train)\n",
    "# Print the name and gini importance of each feature\n",
    "for feature in zip(x_train.columns, clf.feature_importances_):\n",
    "    print(feature)\n",
    "    \n",
    "mse = mean_squared_error(clf.predict(x_train), y_train)\n",
    "print('RMSE: %.4f' % (mse ** 0.5))\n",
    "mse = mean_squared_error(np.zeros(y_train.shape), y_train)\n",
    "print('All zeros RMSE: %.4f' % (mse ** 0.5))"
   ]
  },
  {
   "cell_type": "markdown",
   "metadata": {},
   "source": [
    "## Extra features"
   ]
  },
  {
   "cell_type": "code",
   "execution_count": 17,
   "metadata": {},
   "outputs": [],
   "source": [
    "shops.loc[shops.shop_name == 'Сергиев Посад ТЦ \"7Я\"', 'shop_name'] = 'СергиевПосад ТЦ \"7Я\"'\n",
    "city = shops['shop_name'].str.split(' ').map(lambda x: x[0])\n",
    "city[city == '!Якутск'] = 'Якутск'\n",
    "shops['city_code'] = LabelEncoder().fit_transform(city)\n",
    "to_drop = ['shop_name', 'shop_name_en']\n",
    "shops.drop(to_drop, axis=1, errors='ignore', inplace=True)"
   ]
  },
  {
   "cell_type": "code",
   "execution_count": 18,
   "metadata": {},
   "outputs": [],
   "source": [
    "items_ext\n",
    "cats_split = items_ext['item_category_name'].str.split('-')\n",
    "cats_type = cats_split.map(lambda x: x[0].strip())\n",
    "items_ext['type_code'] = LabelEncoder().fit_transform(cats_type)\n",
    "# if subtype is nan then type\n",
    "cats_subtype = cats_split.map(lambda x: x[1].strip() if len(x) > 1 else x[0].strip())\n",
    "items_ext['subtype_code'] = LabelEncoder().fit_transform(cats_subtype)\n",
    "items_ext\n",
    "\n",
    "to_drop = ['item_name', 'item_category_name', 'item_category_name_en']\n",
    "items_ext.drop(to_drop, axis=1, errors='ignore', inplace=True)"
   ]
  },
  {
   "cell_type": "markdown",
   "metadata": {},
   "source": [
    "## Save features"
   ]
  },
  {
   "cell_type": "code",
   "execution_count": 19,
   "metadata": {},
   "outputs": [
    {
     "name": "stdout",
     "output_type": "stream",
     "text": [
      "<class 'pandas.core.frame.DataFrame'>\n",
      "Int64Index: 22170 entries, 0 to 22169\n",
      "Data columns (total 11 columns):\n",
      "item_id             22170 non-null int32\n",
      "item_category_id    22170 non-null int32\n",
      "in_PC               22170 non-null float32\n",
      "in_version          22170 non-null float32\n",
      "meta_cat            22170 non-null int32\n",
      "icn_games           22170 non-null float32\n",
      "icn_books           22170 non-null float32\n",
      "icn_gifts           22170 non-null float32\n",
      "icn_numeral         22170 non-null float32\n",
      "type_code           22170 non-null int64\n",
      "subtype_code        22170 non-null int64\n",
      "dtypes: float32(6), int32(3), int64(2)\n",
      "memory usage: 1.3 MB\n"
     ]
    }
   ],
   "source": [
    "items_ext.info()"
   ]
  },
  {
   "cell_type": "code",
   "execution_count": 20,
   "metadata": {},
   "outputs": [
    {
     "name": "stdout",
     "output_type": "stream",
     "text": [
      "<class 'pandas.core.frame.DataFrame'>\n",
      "RangeIndex: 60 entries, 0 to 59\n",
      "Data columns (total 8 columns):\n",
      "shop_id         60 non-null int32\n",
      "sn_mega         60 non-null float32\n",
      "sn_Moscow       60 non-null float32\n",
      "sn_moscow tc    60 non-null float32\n",
      "sn_trc          60 non-null float32\n",
      "sn_tsh          60 non-null float32\n",
      "sn_tc mega      60 non-null float32\n",
      "city_code       60 non-null int64\n",
      "dtypes: float32(6), int32(1), int64(1)\n",
      "memory usage: 2.2 KB\n"
     ]
    }
   ],
   "source": [
    "shops.info()"
   ]
  },
  {
   "cell_type": "code",
   "execution_count": 22,
   "metadata": {},
   "outputs": [],
   "source": [
    "data_path = '../data/processed/'\n",
    "shops_columns = ['shop_id', 'sn_Moscow', 'city_code']\n",
    "items_columns = [\n",
    "    'item_id', 'item_category_id', 'in_PC', 'in_version', 'icn_games', \n",
    "    'type_code', 'subtype_code', 'meta_cat'\n",
    "]\n",
    "shops[shops_columns].to_csv(data_path + 'shops.csv', index=False)\n",
    "items_save = items_ext[items_columns]\n",
    "items_save.to_csv(data_path + 'items.csv', index=False)"
   ]
  },
  {
   "cell_type": "code",
   "execution_count": null,
   "metadata": {},
   "outputs": [],
   "source": []
  }
 ],
 "metadata": {
  "kernelspec": {
   "display_name": "Kaggle Future Sales",
   "language": "python",
   "name": "future_sales"
  },
  "language_info": {
   "codemirror_mode": {
    "name": "ipython",
    "version": 3
   },
   "file_extension": ".py",
   "mimetype": "text/x-python",
   "name": "python",
   "nbconvert_exporter": "python",
   "pygments_lexer": "ipython3",
   "version": "3.6.5"
  }
 },
 "nbformat": 4,
 "nbformat_minor": 2
}
